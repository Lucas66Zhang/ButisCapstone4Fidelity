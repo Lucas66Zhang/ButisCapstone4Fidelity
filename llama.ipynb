{
 "cells": [
  {
   "cell_type": "code",
   "execution_count": 1,
   "metadata": {},
   "outputs": [],
   "source": [
    "import torch\n",
    "from transformers import AutoModelForCausalLM, AutoTokenizer"
   ]
  },
  {
   "cell_type": "code",
   "execution_count": 2,
   "metadata": {},
   "outputs": [
    {
     "data": {
      "application/vnd.jupyter.widget-view+json": {
       "model_id": "7aa19952e8e3408aa7ae4d73c769fdf9",
       "version_major": 2,
       "version_minor": 0
      },
      "text/plain": [
       "Loading checkpoint shards:   0%|          | 0/2 [00:00<?, ?it/s]"
      ]
     },
     "metadata": {},
     "output_type": "display_data"
    }
   ],
   "source": [
    "\n",
    "model_name = 'meta-llama/Llama-2-7b-chat-hf'\n",
    "tokenize = AutoTokenizer.from_pretrained(model_name)\n",
    "model = AutoModelForCausalLM.from_pretrained(model_name)"
   ]
  },
  {
   "cell_type": "code",
   "execution_count": 36,
   "metadata": {},
   "outputs": [],
   "source": [
    "true_summary = \"Theodule solicits investors for Creative Capital by guaranteeing a 100% return on their investment within 90 days based on his claimed successful trading of stocks and options.\"\n",
    "true_text = \"\"\"Prior to distributing the proceeds back to the individual club members, the investment clubs typically charge a second 10% commission on the principal.18. Since the commencement of the investment scheme, the Defendants have raised more than $23.4 million from thousands of investors nationwide.16. Theodule also routinely boasts to investors about Creative Capital’s high rates of \n",
    "return, and stresses the need to begin investing as soon as possible.Page 2 of 10 \n",
    "$15.2 million collected from new investors in typical Ponzi scheme fashion.Page 4 of 10 \n",
    "made millionaires out of a significant number of people in the time it had taken her to decide to invest, and pressured her to liquidate the equity in her home to invest with him.They guarantee investors 100% returns with no risk, and claim to invest in the stocks and options of well-known companies such as Google, John Deere, Monsanto, Best Buy, GameStop, and others.26. At the end of the 90-day investment period, when the Defendants have purportedly doubled the investment amount, they supposedly return the principal and profits back to the investment clubs, minus a 40% commission on the profits.21. The investment clubs pool investor funds and send them to Creative Capital for a 90-day period, during which Theodule purportedly trades stocks and options on behalf of the investment club members.15. The Defendants primarily attract investors through word-of-mouth, and Theodule makes his representations during face-to-face meetings in which he touts his ability to double investor funds in just 90 days.3. Theodule solicits investments for the Companies primarily during in-person presentations where he guarantees prospective investors a 100% return on their investment within 90 days based on his successful trading of stocks and options.\"\"\"\n",
    "\n",
    "false_summary = \"Theodule solicits investors for Creative Capital by guaranteeing a 80% return on their investment within 60 days based on his claimed successful trading of stocks.\"\n",
    "\n",
    "false_text = true_text\n",
    "\n",
    "true_input_text = f\"\"\"Evaluate the compliance of a summary sentence derived from a set of sentences in a financial document. Adhere to the following verification standards:\n",
    "1. Entity consistency: Check that all named entities in the summary are extracted from the source.\n",
    "2. Relationship verification: Confirm that relationships between entities in the summary are present and correctly depicted in the source.\n",
    "3. Directionality check: Ensure that the direction of relationships between entities in the summary matches those in the source.\n",
    "4. Factual integrity: Ascertain that the summary is free from factual errors when compared to the source.\n",
    "5. Entity authenticity: Confirm that the summary does not create non-existent entities.\n",
    "\n",
    "Based on these criteria, determine if the summary sentence is a faithful representation of the source sentences. Respond with \"True\" if the summary complies with all standards, or \"False\" if it does not.\n",
    "\n",
    "Summary sentence: {true_summary}\n",
    "\n",
    "Source sentences: {true_text}\"\"\"\n",
    "\n",
    "false_input_text = f\"\"\"Evaluate the compliance of a summary sentence derived from a set of sentences in a financial document. Adhere to the following verification standards:\n",
    "1. Entity consistency: Check that all named entities in the summary are extracted from the source.\n",
    "2. Relationship verification: Confirm that relationships between entities in the summary are present and correctly depicted in the source.\n",
    "3. Directionality check: Ensure that the direction of relationships between entities in the summary matches those in the source.\n",
    "4. Factual integrity: Ascertain that the summary is free from factual errors when compared to the source.\n",
    "5. Entity authenticity: Confirm that the summary does not create non-existent entities.\n",
    "\n",
    "Based on these criteria, determine if the summary sentence is a faithful representation of the source sentences. Respond with \"True\" if the summary complies with all standards, or \"False\" if it does not.\n",
    "\n",
    "Summary sentence: {false_summary}\n",
    "\n",
    "Source sentences: {false_text}\"\"\"\n"
   ]
  },
  {
   "cell_type": "code",
   "execution_count": 37,
   "metadata": {},
   "outputs": [],
   "source": [
    "true_input_text = f\"\"\"\n",
    "As a compliance officer at a financial institution, you're tasked with evaluating the accuracy of a summary sentence based on its alignment with source sentences from a financial document. Consider the following criteria carefully:\n",
    "\n",
    "1. The summary accurately reflects the content of the source sentences, especially numerical information.\n",
    "2. All named entities in the summary are present in the source sentences.\n",
    "3. Relationships between entities in the summary are consistent with those in the source sentences.\n",
    "4. The directional flow of relationships among named entities matches between the summary and source sentences.\n",
    "5. There are no factual discrepancies between the summary and source sentences.\n",
    "6. The summary does not introduce any entities not found in the source sentences.\n",
    "\n",
    "Your job is to determine if the summary adheres to these criteria. Answer \"Yes\" if it does, or \"No\" if it doesn't.\n",
    "\n",
    "Summary sentence: ```{true_summary}```\n",
    "\n",
    "Source sentences: ```{true_text}```\n",
    "\n",
    "Final Answer (Yes/No only): \n",
    "\"\"\"\n",
    "false_input_text = f\"\"\"\n",
    "As a compliance officer at a financial institution, you're tasked with evaluating the accuracy of a summary sentence based on its alignment with source sentences from a financial document. Consider the following criteria carefully:\n",
    "\n",
    "1. The summary accurately reflects the content of the source sentences, especially numerical information.\n",
    "2. All named entities in the summary are present in the source sentences.\n",
    "3. Relationships between entities in the summary are consistent with those in the source sentences.\n",
    "4. The directional flow of relationships among named entities matches between the summary and source sentences.\n",
    "5. There are no factual discrepancies between the summary and source sentences.\n",
    "6. The summary does not introduce any entities not found in the source sentences.\n",
    "\n",
    "Your job is to determine if the summary adheres to these criteria. Answer \"Yes\" if it does, or \"No\" if it doesn't.\n",
    "\n",
    "Summary sentence: ```{false_summary}```\n",
    "\n",
    "Source sentences: ```{true_text}```\n",
    "\n",
    "Final Answer (Yes/No only): \n",
    "\"\"\""
   ]
  },
  {
   "cell_type": "code",
   "execution_count": 5,
   "metadata": {},
   "outputs": [
    {
     "name": "stdout",
     "output_type": "stream",
     "text": [
      "\n",
      "As a compliance officer at a financial institution, you're tasked with evaluating the accuracy of a summary sentence based on its alignment with source sentences from a financial document. Consider the following criteria carefully:\n",
      "\n",
      "1. The summary accurately reflects the content of the source sentences, especially numerical information.\n",
      "2. All named entities in the summary are present in the source sentences.\n",
      "3. Relationships between entities in the summary are consistent with those in the source sentences.\n",
      "4. The directional flow of relationships among named entities matches between the summary and source sentences.\n",
      "5. There are no factual discrepancies between the summary and source sentences.\n",
      "6. The summary does not introduce any entities not found in the source sentences.\n",
      "\n",
      "Your job is to determine if the summary adheres to these criteria. Answer \"Yes\" if it does, or \"No\" if it doesn't.\n",
      "\n",
      "Summary sentence: ```Theodule solicits investors for Creative Capital by guaranteeing a 100% return on their investment within 90 days based on his claimed successful trading of stocks and options.```\n",
      "\n",
      "Source sentences: ```Prior to distributing the proceeds back to the individual club members, the investment clubs typically charge a second 10% commission on the principal.18. Since the commencement of the investment scheme, the Defendants have raised more than $23.4 million from thousands of investors nationwide.16. Theodule also routinely boasts to investors about Creative Capital’s high rates of \n",
      "return, and stresses the need to begin investing as soon as possible.Page 2 of 10 \n",
      "$15.2 million collected from new investors in typical Ponzi scheme fashion.Page 4 of 10 \n",
      "made millionaires out of a significant number of people in the time it had taken her to decide to invest, and pressured her to liquidate the equity in her home to invest with him.They guarantee investors 100% returns with no risk, and claim to invest in the stocks and options of well-known companies such as Google, John Deere, Monsanto, Best Buy, GameStop, and others.26. At the end of the 90-day investment period, when the Defendants have purportedly doubled the investment amount, they supposedly return the principal and profits back to the investment clubs, minus a 40% commission on the profits.21. The investment clubs pool investor funds and send them to Creative Capital for a 90-day period, during which Theodule purportedly trades stocks and options on behalf of the investment club members.15. The Defendants primarily attract investors through word-of-mouth, and Theodule makes his representations during face-to-face meetings in which he touts his ability to double investor funds in just 90 days.3. Theodule solicits investments for the Companies primarily during in-person presentations where he guarantees prospective investors a 100% return on their investment within 90 days based on his successful trading of stocks and options.```\n",
      "\n",
      "Final Answer (Yes/No only): \n"
     ]
    }
   ],
   "source": [
    "print(true_input_text)"
   ]
  },
  {
   "cell_type": "code",
   "execution_count": 6,
   "metadata": {},
   "outputs": [],
   "source": [
    "\n",
    "true_input = tokenize(true_input_text, return_tensors='pt')\n",
    "false_input = tokenize(false_input_text, return_tensors='pt')\n",
    "\n",
    "True_idx = tokenize.encode(\"Yes\", add_special_tokens=False)[0]\n",
    "False_idx = tokenize.encode(\"No\", add_special_tokens=False)[0]"
   ]
  },
  {
   "cell_type": "code",
   "execution_count": 7,
   "metadata": {},
   "outputs": [],
   "source": [
    "true_output = model(**true_input)\n",
    "true_logits = true_output.logits"
   ]
  },
  {
   "cell_type": "code",
   "execution_count": 8,
   "metadata": {},
   "outputs": [
    {
     "name": "stdout",
     "output_type": "stream",
     "text": [
      "0.6545732617378235 0.1053808405995369\n",
      "True\n"
     ]
    }
   ],
   "source": [
    "prob = torch.softmax(true_logits[:, -1, :], dim=1)\n",
    "yes_prob = prob[:, True_idx].item()\n",
    "no_prob = prob[:, False_idx].item()\n",
    "print(yes_prob, no_prob)\n",
    "print(yes_prob > no_prob)"
   ]
  },
  {
   "cell_type": "code",
   "execution_count": 9,
   "metadata": {},
   "outputs": [
    {
     "name": "stdout",
     "output_type": "stream",
     "text": [
      "0.6491807699203491 0.12524646520614624\n",
      "True\n"
     ]
    }
   ],
   "source": [
    "false_output = model(**false_input)\n",
    "false_logits = false_output.logits\n",
    "false_prob = torch.softmax(false_logits[:, -1, :], dim=1)\n",
    "yes_false_prob = false_prob[:, True_idx].item()\n",
    "no_false_prob = false_prob[:, False_idx].item()\n",
    "print(yes_false_prob, no_false_prob)\n",
    "print(yes_false_prob > no_false_prob)\n"
   ]
  },
  {
   "cell_type": "code",
   "execution_count": null,
   "metadata": {},
   "outputs": [],
   "source": []
  },
  {
   "cell_type": "code",
   "execution_count": 4,
   "metadata": {},
   "outputs": [],
   "source": [
    "true_input_text = f\"\"\"\n",
    "Question: Can cat fly?\n",
    "Answer:\n",
    "\"\"\""
   ]
  },
  {
   "cell_type": "code",
   "execution_count": 5,
   "metadata": {},
   "outputs": [],
   "source": [
    "true_input = tokenize(true_input_text, return_tensors='pt')"
   ]
  },
  {
   "cell_type": "code",
   "execution_count": 8,
   "metadata": {},
   "outputs": [],
   "source": [
    "True_idx = tokenize.encode(\"Yes\", add_special_tokens=False)[0]\n",
    "False_idx = tokenize.encode(\"No\", add_special_tokens=False)[0]"
   ]
  },
  {
   "cell_type": "code",
   "execution_count": 9,
   "metadata": {},
   "outputs": [
    {
     "name": "stdout",
     "output_type": "stream",
     "text": [
      "0.00031695698271505535 0.011991030536592007\n",
      "False\n"
     ]
    }
   ],
   "source": [
    "true_output = model(**true_input)\n",
    "true_logits = true_output.logits\n",
    "prob = torch.softmax(true_logits[:, -1, :], dim=1)\n",
    "yes_prob = prob[:, True_idx].item()\n",
    "no_prob = prob[:, False_idx].item()\n",
    "print(yes_prob, no_prob)\n",
    "print(yes_prob > no_prob)"
   ]
  },
  {
   "cell_type": "code",
   "execution_count": 27,
   "metadata": {},
   "outputs": [],
   "source": [
    "true_summary = \"According to the Commission's complaint, the defendants raised at least $23.4 million from thousands of investors in the Haitian-American community nationwide through a network of purported investment clubs Theodule directs investors to form.\"\n",
    "true_text = \"\"\"The Defendants have engaged in a fraudulent Ponzi scheme primarily targeting the US Haitian community since at least November 2007.This includes net transfers of at least $1.7 million to his personal bank accounts, cash withdrawals of more than $1.5 million and more than $600,000 for apparent personal expenses such as two luxury vehicles, credit card bills, a wedding payment, and a house down payment.21. The investment clubs pool investor funds and send them to Creative Capital for a 90-day period, during which Theodule purportedly trades stocks and options on behalf of the investment club members.Page 2 of 10 \n",
    "$15.2 million collected from new investors in typical Ponzi scheme fashion.Page 4 of 10 \n",
    "made millionaires out of a significant number of people in the time it had taken her to decide to invest, and pressured her to liquidate the equity in her home to invest with him.14. Theodule ingratiates himself with investors by claiming he recently decided to offer his investment expertise to help build wealth in the Haitian community.He also tells investors he uses part of his trading profits to fund start-up businesses in the Haitian community, as well as business projects in Haiti and Sierra Leone.15. The Defendants primarily attract investors through word-of-mouth, and Theodule makes his representations during face-to-face meetings in which he touts his ability to double investor funds in just 90 days.18. Since the commencement of the investment scheme, the Defendants have raised more than $23.4 million from thousands of investors nationwide.2, From at least November 2007 to the present, Theodule, directly and through the Companies, has raised at least $23.4 million from thousands of investors in an ongoing fraud and Ponzi scheme targeting mostly Haitian and Haitian-American investors nationwide.\"\"\"\n",
    "\n",
    "false_summary = \" According to the Commission's complaint, the defendants raised at least $789 billion from thousands of investors in the French community nationwide through a network of purported investment clubs Theodule directs investors to form.\"\n",
    "\n",
    "false_text = true_text"
   ]
  },
  {
   "cell_type": "code",
   "execution_count": 28,
   "metadata": {},
   "outputs": [],
   "source": [
    "true_input_text = f\"\"\"\n",
    "As a compliance officer at a financial institution, you're tasked with evaluating the accuracy of a summary sentence based on its alignment with source sentences from a financial document. Consider the following criteria carefully:\n",
    "\n",
    "1. The summary accurately reflects the content of the source sentences, especially numerical information.\n",
    "2. All named entities in the summary are present in the source sentences.\n",
    "3. Relationships between entities in the summary are consistent with those in the source sentences.\n",
    "4. The directional flow of relationships among named entities matches between the summary and source sentences.\n",
    "5. There are no factual discrepancies between the summary and source sentences.\n",
    "6. The summary does not introduce any entities not found in the source sentences.\n",
    "\n",
    "Your job is to determine if the summary adheres to these criteria. Answer \"Yes\" if it does, or \"No\" if it doesn't.\n",
    "\n",
    "Summary sentence: ```{true_summary}```\n",
    "\n",
    "Source sentences: ```{true_text}```\n",
    "\n",
    "Final Answer (Yes/No only): \n",
    "\"\"\"\n",
    "false_input_text = f\"\"\"\n",
    "As a compliance officer at a financial institution, you're tasked with evaluating the accuracy of a summary sentence based on its alignment with source sentences from a financial document. Consider the following criteria carefully:\n",
    "\n",
    "1. The summary accurately reflects the content of the source sentences, especially numerical information.\n",
    "2. All named entities in the summary are present in the source sentences.\n",
    "3. Relationships between entities in the summary are consistent with those in the source sentences.\n",
    "4. The directional flow of relationships among named entities matches between the summary and source sentences.\n",
    "5. There are no factual discrepancies between the summary and source sentences.\n",
    "6. The summary does not introduce any entities not found in the source sentences.\n",
    "\n",
    "Your job is to determine if the summary adheres to these criteria. Answer \"Yes\" if it does, or \"No\" if it doesn't.\n",
    "\n",
    "Summary sentence: ```{false_summary}```\n",
    "\n",
    "Source sentences: ```{true_text}```\n",
    "\n",
    "Final Answer (Yes/No only): \n",
    "\"\"\""
   ]
  },
  {
   "cell_type": "code",
   "execution_count": 1,
   "metadata": {},
   "outputs": [],
   "source": [
    "import openai"
   ]
  },
  {
   "cell_type": "code",
   "execution_count": 4,
   "metadata": {},
   "outputs": [],
   "source": [
    "\n",
    "\n"
   ]
  },
  {
   "cell_type": "code",
   "execution_count": 29,
   "metadata": {},
   "outputs": [
    {
     "name": "stdout",
     "output_type": "stream",
     "text": [
      "\n",
      "As a compliance officer at a financial institution, you're tasked with evaluating the accuracy of a summary sentence based on its alignment with source sentences from a financial document. Consider the following criteria carefully:\n",
      "\n",
      "1. The summary accurately reflects the content of the source sentences, especially numerical information.\n",
      "2. All named entities in the summary are present in the source sentences.\n",
      "3. Relationships between entities in the summary are consistent with those in the source sentences.\n",
      "4. The directional flow of relationships among named entities matches between the summary and source sentences.\n",
      "5. There are no factual discrepancies between the summary and source sentences.\n",
      "6. The summary does not introduce any entities not found in the source sentences.\n",
      "\n",
      "Your job is to determine if the summary adheres to these criteria. Answer \"Yes\" if it does, or \"No\" if it doesn't.\n",
      "\n",
      "Summary sentence: ```According to the Commission's complaint, the defendants raised at least $23.4 million from thousands of investors in the Haitian-American community nationwide through a network of purported investment clubs Theodule directs investors to form.```\n",
      "\n",
      "Source sentences: ```The Defendants have engaged in a fraudulent Ponzi scheme primarily targeting the US Haitian community since at least November 2007.This includes net transfers of at least $1.7 million to his personal bank accounts, cash withdrawals of more than $1.5 million and more than $600,000 for apparent personal expenses such as two luxury vehicles, credit card bills, a wedding payment, and a house down payment.21. The investment clubs pool investor funds and send them to Creative Capital for a 90-day period, during which Theodule purportedly trades stocks and options on behalf of the investment club members.Page 2 of 10 \n",
      "$15.2 million collected from new investors in typical Ponzi scheme fashion.Page 4 of 10 \n",
      "made millionaires out of a significant number of people in the time it had taken her to decide to invest, and pressured her to liquidate the equity in her home to invest with him.14. Theodule ingratiates himself with investors by claiming he recently decided to offer his investment expertise to help build wealth in the Haitian community.He also tells investors he uses part of his trading profits to fund start-up businesses in the Haitian community, as well as business projects in Haiti and Sierra Leone.15. The Defendants primarily attract investors through word-of-mouth, and Theodule makes his representations during face-to-face meetings in which he touts his ability to double investor funds in just 90 days.18. Since the commencement of the investment scheme, the Defendants have raised more than $23.4 million from thousands of investors nationwide.2, From at least November 2007 to the present, Theodule, directly and through the Companies, has raised at least $23.4 million from thousands of investors in an ongoing fraud and Ponzi scheme targeting mostly Haitian and Haitian-American investors nationwide.```\n",
      "\n",
      "Final Answer (Yes/No only): \n",
      "\n"
     ]
    }
   ],
   "source": [
    "print(true_input_text)"
   ]
  },
  {
   "cell_type": "code",
   "execution_count": 38,
   "metadata": {},
   "outputs": [
    {
     "name": "stdout",
     "output_type": "stream",
     "text": [
      "\n",
      "As a compliance officer at a financial institution, you're tasked with evaluating the accuracy of a summary sentence based on its alignment with source sentences from a financial document. Consider the following criteria carefully:\n",
      "\n",
      "1. The summary accurately reflects the content of the source sentences, especially numerical information.\n",
      "2. All named entities in the summary are present in the source sentences.\n",
      "3. Relationships between entities in the summary are consistent with those in the source sentences.\n",
      "4. The directional flow of relationships among named entities matches between the summary and source sentences.\n",
      "5. There are no factual discrepancies between the summary and source sentences.\n",
      "6. The summary does not introduce any entities not found in the source sentences.\n",
      "\n",
      "Your job is to determine if the summary adheres to these criteria. Answer \"Yes\" if it does, or \"No\" if it doesn't.\n",
      "\n",
      "Summary sentence: ```Theodule solicits investors for Creative Capital by guaranteeing a 80% return on their investment within 60 days based on his claimed successful trading of stocks.```\n",
      "\n",
      "Source sentences: ```Prior to distributing the proceeds back to the individual club members, the investment clubs typically charge a second 10% commission on the principal.18. Since the commencement of the investment scheme, the Defendants have raised more than $23.4 million from thousands of investors nationwide.16. Theodule also routinely boasts to investors about Creative Capital’s high rates of \n",
      "return, and stresses the need to begin investing as soon as possible.Page 2 of 10 \n",
      "$15.2 million collected from new investors in typical Ponzi scheme fashion.Page 4 of 10 \n",
      "made millionaires out of a significant number of people in the time it had taken her to decide to invest, and pressured her to liquidate the equity in her home to invest with him.They guarantee investors 100% returns with no risk, and claim to invest in the stocks and options of well-known companies such as Google, John Deere, Monsanto, Best Buy, GameStop, and others.26. At the end of the 90-day investment period, when the Defendants have purportedly doubled the investment amount, they supposedly return the principal and profits back to the investment clubs, minus a 40% commission on the profits.21. The investment clubs pool investor funds and send them to Creative Capital for a 90-day period, during which Theodule purportedly trades stocks and options on behalf of the investment club members.15. The Defendants primarily attract investors through word-of-mouth, and Theodule makes his representations during face-to-face meetings in which he touts his ability to double investor funds in just 90 days.3. Theodule solicits investments for the Companies primarily during in-person presentations where he guarantees prospective investors a 100% return on their investment within 90 days based on his successful trading of stocks and options.```\n",
      "\n",
      "Final Answer (Yes/No only): \n",
      "\n"
     ]
    }
   ],
   "source": [
    "print(false_input_text)"
   ]
  },
  {
   "cell_type": "code",
   "execution_count": 39,
   "metadata": {},
   "outputs": [
    {
     "name": "stdout",
     "output_type": "stream",
     "text": [
      "ChatCompletionMessage(content='Yes', role='assistant', function_call=None, tool_calls=None)\n"
     ]
    }
   ],
   "source": [
    "from openai import OpenAI\n",
    "client = OpenAI(api_key = openai_api_key)\n",
    "\n",
    "completion = client.chat.completions.create(\n",
    "  model=\"gpt-4\",\n",
    "  messages=[\n",
    "    {\"role\": \"user\", \"content\": true_input_text}\n",
    "  ],\n",
    "  max_tokens=1\n",
    ")\n",
    "\n",
    "print(completion.choices[0].message)"
   ]
  },
  {
   "cell_type": "code",
   "execution_count": 40,
   "metadata": {},
   "outputs": [
    {
     "name": "stdout",
     "output_type": "stream",
     "text": [
      "ChatCompletionMessage(content='No', role='assistant', function_call=None, tool_calls=None)\n"
     ]
    }
   ],
   "source": [
    "from openai import OpenAI\n",
    "client = OpenAI(api_key = openai_api_key)\n",
    "\n",
    "completion = client.chat.completions.create(\n",
    "  model=\"gpt-4\",\n",
    "  messages=[\n",
    "    {\"role\": \"user\", \"content\": false_input_text}\n",
    "  ],\n",
    "  max_tokens=1\n",
    ")\n",
    "\n",
    "print(completion.choices[0].message)"
   ]
  },
  {
   "cell_type": "code",
   "execution_count": 16,
   "metadata": {},
   "outputs": [
    {
     "ename": "BadRequestError",
     "evalue": "Error code: 400 - {'error': {'message': \"Additional properties are not allowed ('text' was unexpected) - 'messages.0'\", 'type': 'invalid_request_error', 'param': None, 'code': None}}",
     "output_type": "error",
     "traceback": [
      "\u001b[1;31m---------------------------------------------------------------------------\u001b[0m",
      "\u001b[1;31mBadRequestError\u001b[0m                           Traceback (most recent call last)",
      "\u001b[1;32me:\\GitHub\\ButisCapstone4Fidelity\\llama.ipynb Cell 18\u001b[0m line \u001b[0;36m4\n\u001b[0;32m      <a href='vscode-notebook-cell:/e%3A/GitHub/ButisCapstone4Fidelity/llama.ipynb#X42sZmlsZQ%3D%3D?line=0'>1</a>\u001b[0m \u001b[39mfrom\u001b[39;00m \u001b[39mopenai\u001b[39;00m \u001b[39mimport\u001b[39;00m OpenAI\n\u001b[0;32m      <a href='vscode-notebook-cell:/e%3A/GitHub/ButisCapstone4Fidelity/llama.ipynb#X42sZmlsZQ%3D%3D?line=1'>2</a>\u001b[0m client \u001b[39m=\u001b[39m OpenAI(api_key \u001b[39m=\u001b[39m openai_api_key)\n\u001b[1;32m----> <a href='vscode-notebook-cell:/e%3A/GitHub/ButisCapstone4Fidelity/llama.ipynb#X42sZmlsZQ%3D%3D?line=3'>4</a>\u001b[0m completions \u001b[39m=\u001b[39m client\u001b[39m.\u001b[39;49mchat\u001b[39m.\u001b[39;49mcompletions\u001b[39m.\u001b[39;49mcreate(\n\u001b[0;32m      <a href='vscode-notebook-cell:/e%3A/GitHub/ButisCapstone4Fidelity/llama.ipynb#X42sZmlsZQ%3D%3D?line=4'>5</a>\u001b[0m     model\u001b[39m=\u001b[39;49m\u001b[39m\"\u001b[39;49m\u001b[39mgpt-3.5-turbo\u001b[39;49m\u001b[39m\"\u001b[39;49m,\n\u001b[0;32m      <a href='vscode-notebook-cell:/e%3A/GitHub/ButisCapstone4Fidelity/llama.ipynb#X42sZmlsZQ%3D%3D?line=5'>6</a>\u001b[0m     messages\u001b[39m=\u001b[39;49m[{\u001b[39m\"\u001b[39;49m\u001b[39mrole\u001b[39;49m\u001b[39m\"\u001b[39;49m: \u001b[39m\"\u001b[39;49m\u001b[39muser\u001b[39;49m\u001b[39m\"\u001b[39;49m, \u001b[39m\"\u001b[39;49m\u001b[39mtext\u001b[39;49m\u001b[39m\"\u001b[39;49m: true_input_text}],\n\u001b[0;32m      <a href='vscode-notebook-cell:/e%3A/GitHub/ButisCapstone4Fidelity/llama.ipynb#X42sZmlsZQ%3D%3D?line=6'>7</a>\u001b[0m )\n\u001b[0;32m      <a href='vscode-notebook-cell:/e%3A/GitHub/ButisCapstone4Fidelity/llama.ipynb#X42sZmlsZQ%3D%3D?line=8'>9</a>\u001b[0m text \u001b[39m=\u001b[39m completions\u001b[39m.\u001b[39mchoices[\u001b[39m0\u001b[39m]\u001b[39m.\u001b[39mtext\u001b[39m.\u001b[39mstrip()\n\u001b[0;32m     <a href='vscode-notebook-cell:/e%3A/GitHub/ButisCapstone4Fidelity/llama.ipynb#X42sZmlsZQ%3D%3D?line=9'>10</a>\u001b[0m logprobs \u001b[39m=\u001b[39m completions\u001b[39m.\u001b[39mchoices[\u001b[39m0\u001b[39m]\u001b[39m.\u001b[39mlogprobs\u001b[39m.\u001b[39mtoken_logprobs\n",
      "File \u001b[1;32mc:\\Users\\Yiche\\.conda\\envs\\playground\\lib\\site-packages\\openai\\_utils\\_utils.py:299\u001b[0m, in \u001b[0;36mrequired_args.<locals>.inner.<locals>.wrapper\u001b[1;34m(*args, **kwargs)\u001b[0m\n\u001b[0;32m    297\u001b[0m             msg \u001b[39m=\u001b[39m \u001b[39mf\u001b[39m\u001b[39m\"\u001b[39m\u001b[39mMissing required argument: \u001b[39m\u001b[39m{\u001b[39;00mquote(missing[\u001b[39m0\u001b[39m])\u001b[39m}\u001b[39;00m\u001b[39m\"\u001b[39m\n\u001b[0;32m    298\u001b[0m     \u001b[39mraise\u001b[39;00m \u001b[39mTypeError\u001b[39;00m(msg)\n\u001b[1;32m--> 299\u001b[0m \u001b[39mreturn\u001b[39;00m func(\u001b[39m*\u001b[39margs, \u001b[39m*\u001b[39m\u001b[39m*\u001b[39mkwargs)\n",
      "File \u001b[1;32mc:\\Users\\Yiche\\.conda\\envs\\playground\\lib\\site-packages\\openai\\resources\\chat\\completions.py:594\u001b[0m, in \u001b[0;36mCompletions.create\u001b[1;34m(self, messages, model, frequency_penalty, function_call, functions, logit_bias, max_tokens, n, presence_penalty, response_format, seed, stop, stream, temperature, tool_choice, tools, top_p, user, extra_headers, extra_query, extra_body, timeout)\u001b[0m\n\u001b[0;32m    548\u001b[0m \u001b[39m@required_args\u001b[39m([\u001b[39m\"\u001b[39m\u001b[39mmessages\u001b[39m\u001b[39m\"\u001b[39m, \u001b[39m\"\u001b[39m\u001b[39mmodel\u001b[39m\u001b[39m\"\u001b[39m], [\u001b[39m\"\u001b[39m\u001b[39mmessages\u001b[39m\u001b[39m\"\u001b[39m, \u001b[39m\"\u001b[39m\u001b[39mmodel\u001b[39m\u001b[39m\"\u001b[39m, \u001b[39m\"\u001b[39m\u001b[39mstream\u001b[39m\u001b[39m\"\u001b[39m])\n\u001b[0;32m    549\u001b[0m \u001b[39mdef\u001b[39;00m \u001b[39mcreate\u001b[39m(\n\u001b[0;32m    550\u001b[0m     \u001b[39mself\u001b[39m,\n\u001b[1;32m   (...)\u001b[0m\n\u001b[0;32m    592\u001b[0m     timeout: \u001b[39mfloat\u001b[39m \u001b[39m|\u001b[39m httpx\u001b[39m.\u001b[39mTimeout \u001b[39m|\u001b[39m \u001b[39mNone\u001b[39;00m \u001b[39m|\u001b[39m NotGiven \u001b[39m=\u001b[39m NOT_GIVEN,\n\u001b[0;32m    593\u001b[0m ) \u001b[39m-\u001b[39m\u001b[39m>\u001b[39m ChatCompletion \u001b[39m|\u001b[39m Stream[ChatCompletionChunk]:\n\u001b[1;32m--> 594\u001b[0m     \u001b[39mreturn\u001b[39;00m \u001b[39mself\u001b[39;49m\u001b[39m.\u001b[39;49m_post(\n\u001b[0;32m    595\u001b[0m         \u001b[39m\"\u001b[39;49m\u001b[39m/chat/completions\u001b[39;49m\u001b[39m\"\u001b[39;49m,\n\u001b[0;32m    596\u001b[0m         body\u001b[39m=\u001b[39;49mmaybe_transform(\n\u001b[0;32m    597\u001b[0m             {\n\u001b[0;32m    598\u001b[0m                 \u001b[39m\"\u001b[39;49m\u001b[39mmessages\u001b[39;49m\u001b[39m\"\u001b[39;49m: messages,\n\u001b[0;32m    599\u001b[0m                 \u001b[39m\"\u001b[39;49m\u001b[39mmodel\u001b[39;49m\u001b[39m\"\u001b[39;49m: model,\n\u001b[0;32m    600\u001b[0m                 \u001b[39m\"\u001b[39;49m\u001b[39mfrequency_penalty\u001b[39;49m\u001b[39m\"\u001b[39;49m: frequency_penalty,\n\u001b[0;32m    601\u001b[0m                 \u001b[39m\"\u001b[39;49m\u001b[39mfunction_call\u001b[39;49m\u001b[39m\"\u001b[39;49m: function_call,\n\u001b[0;32m    602\u001b[0m                 \u001b[39m\"\u001b[39;49m\u001b[39mfunctions\u001b[39;49m\u001b[39m\"\u001b[39;49m: functions,\n\u001b[0;32m    603\u001b[0m                 \u001b[39m\"\u001b[39;49m\u001b[39mlogit_bias\u001b[39;49m\u001b[39m\"\u001b[39;49m: logit_bias,\n\u001b[0;32m    604\u001b[0m                 \u001b[39m\"\u001b[39;49m\u001b[39mmax_tokens\u001b[39;49m\u001b[39m\"\u001b[39;49m: max_tokens,\n\u001b[0;32m    605\u001b[0m                 \u001b[39m\"\u001b[39;49m\u001b[39mn\u001b[39;49m\u001b[39m\"\u001b[39;49m: n,\n\u001b[0;32m    606\u001b[0m                 \u001b[39m\"\u001b[39;49m\u001b[39mpresence_penalty\u001b[39;49m\u001b[39m\"\u001b[39;49m: presence_penalty,\n\u001b[0;32m    607\u001b[0m                 \u001b[39m\"\u001b[39;49m\u001b[39mresponse_format\u001b[39;49m\u001b[39m\"\u001b[39;49m: response_format,\n\u001b[0;32m    608\u001b[0m                 \u001b[39m\"\u001b[39;49m\u001b[39mseed\u001b[39;49m\u001b[39m\"\u001b[39;49m: seed,\n\u001b[0;32m    609\u001b[0m                 \u001b[39m\"\u001b[39;49m\u001b[39mstop\u001b[39;49m\u001b[39m\"\u001b[39;49m: stop,\n\u001b[0;32m    610\u001b[0m                 \u001b[39m\"\u001b[39;49m\u001b[39mstream\u001b[39;49m\u001b[39m\"\u001b[39;49m: stream,\n\u001b[0;32m    611\u001b[0m                 \u001b[39m\"\u001b[39;49m\u001b[39mtemperature\u001b[39;49m\u001b[39m\"\u001b[39;49m: temperature,\n\u001b[0;32m    612\u001b[0m                 \u001b[39m\"\u001b[39;49m\u001b[39mtool_choice\u001b[39;49m\u001b[39m\"\u001b[39;49m: tool_choice,\n\u001b[0;32m    613\u001b[0m                 \u001b[39m\"\u001b[39;49m\u001b[39mtools\u001b[39;49m\u001b[39m\"\u001b[39;49m: tools,\n\u001b[0;32m    614\u001b[0m                 \u001b[39m\"\u001b[39;49m\u001b[39mtop_p\u001b[39;49m\u001b[39m\"\u001b[39;49m: top_p,\n\u001b[0;32m    615\u001b[0m                 \u001b[39m\"\u001b[39;49m\u001b[39muser\u001b[39;49m\u001b[39m\"\u001b[39;49m: user,\n\u001b[0;32m    616\u001b[0m             },\n\u001b[0;32m    617\u001b[0m             completion_create_params\u001b[39m.\u001b[39;49mCompletionCreateParams,\n\u001b[0;32m    618\u001b[0m         ),\n\u001b[0;32m    619\u001b[0m         options\u001b[39m=\u001b[39;49mmake_request_options(\n\u001b[0;32m    620\u001b[0m             extra_headers\u001b[39m=\u001b[39;49mextra_headers, extra_query\u001b[39m=\u001b[39;49mextra_query, extra_body\u001b[39m=\u001b[39;49mextra_body, timeout\u001b[39m=\u001b[39;49mtimeout\n\u001b[0;32m    621\u001b[0m         ),\n\u001b[0;32m    622\u001b[0m         cast_to\u001b[39m=\u001b[39;49mChatCompletion,\n\u001b[0;32m    623\u001b[0m         stream\u001b[39m=\u001b[39;49mstream \u001b[39mor\u001b[39;49;00m \u001b[39mFalse\u001b[39;49;00m,\n\u001b[0;32m    624\u001b[0m         stream_cls\u001b[39m=\u001b[39;49mStream[ChatCompletionChunk],\n\u001b[0;32m    625\u001b[0m     )\n",
      "File \u001b[1;32mc:\\Users\\Yiche\\.conda\\envs\\playground\\lib\\site-packages\\openai\\_base_client.py:1055\u001b[0m, in \u001b[0;36mSyncAPIClient.post\u001b[1;34m(self, path, cast_to, body, options, files, stream, stream_cls)\u001b[0m\n\u001b[0;32m   1041\u001b[0m \u001b[39mdef\u001b[39;00m \u001b[39mpost\u001b[39m(\n\u001b[0;32m   1042\u001b[0m     \u001b[39mself\u001b[39m,\n\u001b[0;32m   1043\u001b[0m     path: \u001b[39mstr\u001b[39m,\n\u001b[1;32m   (...)\u001b[0m\n\u001b[0;32m   1050\u001b[0m     stream_cls: \u001b[39mtype\u001b[39m[_StreamT] \u001b[39m|\u001b[39m \u001b[39mNone\u001b[39;00m \u001b[39m=\u001b[39m \u001b[39mNone\u001b[39;00m,\n\u001b[0;32m   1051\u001b[0m ) \u001b[39m-\u001b[39m\u001b[39m>\u001b[39m ResponseT \u001b[39m|\u001b[39m _StreamT:\n\u001b[0;32m   1052\u001b[0m     opts \u001b[39m=\u001b[39m FinalRequestOptions\u001b[39m.\u001b[39mconstruct(\n\u001b[0;32m   1053\u001b[0m         method\u001b[39m=\u001b[39m\u001b[39m\"\u001b[39m\u001b[39mpost\u001b[39m\u001b[39m\"\u001b[39m, url\u001b[39m=\u001b[39mpath, json_data\u001b[39m=\u001b[39mbody, files\u001b[39m=\u001b[39mto_httpx_files(files), \u001b[39m*\u001b[39m\u001b[39m*\u001b[39moptions\n\u001b[0;32m   1054\u001b[0m     )\n\u001b[1;32m-> 1055\u001b[0m     \u001b[39mreturn\u001b[39;00m cast(ResponseT, \u001b[39mself\u001b[39;49m\u001b[39m.\u001b[39;49mrequest(cast_to, opts, stream\u001b[39m=\u001b[39;49mstream, stream_cls\u001b[39m=\u001b[39;49mstream_cls))\n",
      "File \u001b[1;32mc:\\Users\\Yiche\\.conda\\envs\\playground\\lib\\site-packages\\openai\\_base_client.py:834\u001b[0m, in \u001b[0;36mSyncAPIClient.request\u001b[1;34m(self, cast_to, options, remaining_retries, stream, stream_cls)\u001b[0m\n\u001b[0;32m    825\u001b[0m \u001b[39mdef\u001b[39;00m \u001b[39mrequest\u001b[39m(\n\u001b[0;32m    826\u001b[0m     \u001b[39mself\u001b[39m,\n\u001b[0;32m    827\u001b[0m     cast_to: Type[ResponseT],\n\u001b[1;32m   (...)\u001b[0m\n\u001b[0;32m    832\u001b[0m     stream_cls: \u001b[39mtype\u001b[39m[_StreamT] \u001b[39m|\u001b[39m \u001b[39mNone\u001b[39;00m \u001b[39m=\u001b[39m \u001b[39mNone\u001b[39;00m,\n\u001b[0;32m    833\u001b[0m ) \u001b[39m-\u001b[39m\u001b[39m>\u001b[39m ResponseT \u001b[39m|\u001b[39m _StreamT:\n\u001b[1;32m--> 834\u001b[0m     \u001b[39mreturn\u001b[39;00m \u001b[39mself\u001b[39;49m\u001b[39m.\u001b[39;49m_request(\n\u001b[0;32m    835\u001b[0m         cast_to\u001b[39m=\u001b[39;49mcast_to,\n\u001b[0;32m    836\u001b[0m         options\u001b[39m=\u001b[39;49moptions,\n\u001b[0;32m    837\u001b[0m         stream\u001b[39m=\u001b[39;49mstream,\n\u001b[0;32m    838\u001b[0m         stream_cls\u001b[39m=\u001b[39;49mstream_cls,\n\u001b[0;32m    839\u001b[0m         remaining_retries\u001b[39m=\u001b[39;49mremaining_retries,\n\u001b[0;32m    840\u001b[0m     )\n",
      "File \u001b[1;32mc:\\Users\\Yiche\\.conda\\envs\\playground\\lib\\site-packages\\openai\\_base_client.py:877\u001b[0m, in \u001b[0;36mSyncAPIClient._request\u001b[1;34m(self, cast_to, options, remaining_retries, stream, stream_cls)\u001b[0m\n\u001b[0;32m    874\u001b[0m     \u001b[39m# If the response is streamed then we need to explicitly read the response\u001b[39;00m\n\u001b[0;32m    875\u001b[0m     \u001b[39m# to completion before attempting to access the response text.\u001b[39;00m\n\u001b[0;32m    876\u001b[0m     err\u001b[39m.\u001b[39mresponse\u001b[39m.\u001b[39mread()\n\u001b[1;32m--> 877\u001b[0m     \u001b[39mraise\u001b[39;00m \u001b[39mself\u001b[39m\u001b[39m.\u001b[39m_make_status_error_from_response(err\u001b[39m.\u001b[39mresponse) \u001b[39mfrom\u001b[39;00m \u001b[39mNone\u001b[39;00m\n\u001b[0;32m    878\u001b[0m \u001b[39mexcept\u001b[39;00m httpx\u001b[39m.\u001b[39mTimeoutException \u001b[39mas\u001b[39;00m err:\n\u001b[0;32m    879\u001b[0m     \u001b[39mif\u001b[39;00m retries \u001b[39m>\u001b[39m \u001b[39m0\u001b[39m:\n",
      "\u001b[1;31mBadRequestError\u001b[0m: Error code: 400 - {'error': {'message': \"Additional properties are not allowed ('text' was unexpected) - 'messages.0'\", 'type': 'invalid_request_error', 'param': None, 'code': None}}"
     ]
    }
   ],
   "source": [
    "from openai import OpenAI\n",
    "client = OpenAI(api_key = openai_api_key)\n",
    "\n",
    "completions = client.chat.completions.create(\n",
    "    model=\"gpt-4\",\n",
    "    messages=[{\"role\": \"user\", \"text\": true_input_text}],\n",
    ")\n",
    "\n",
    "text = completions.choices[0].text.strip()\n",
    "logprobs = completions.choices[0].logprobs.token_logprobs\n",
    "tokens = logprobs.keys()\n",
    "probs = logprobs.values()\n",
    "\n",
    "for token, prob in zip(tokens, probs):\n",
    "    print(f\"Token: {token}, Log Probability: {prob}\")"
   ]
  },
  {
   "cell_type": "code",
   "execution_count": 27,
   "metadata": {},
   "outputs": [
    {
     "data": {
      "text/plain": [
       "[-3.410423]"
      ]
     },
     "execution_count": 27,
     "metadata": {},
     "output_type": "execute_result"
    }
   ],
   "source": [
    "logprobs"
   ]
  },
  {
   "cell_type": "code",
   "execution_count": 28,
   "metadata": {},
   "outputs": [
    {
     "data": {
      "text/plain": [
       "'`'"
      ]
     },
     "execution_count": 28,
     "metadata": {},
     "output_type": "execute_result"
    }
   ],
   "source": [
    "text"
   ]
  },
  {
   "cell_type": "code",
   "execution_count": 29,
   "metadata": {},
   "outputs": [
    {
     "data": {
      "text/plain": [
       "[<OpenAIObject at 0x2685fe4fb80> JSON: {\n",
       "   \"text\": \" `\",\n",
       "   \"index\": 0,\n",
       "   \"logprobs\": {\n",
       "     \"tokens\": [\n",
       "       \" `\"\n",
       "     ],\n",
       "     \"token_logprobs\": [\n",
       "       -3.410423\n",
       "     ],\n",
       "     \"top_logprobs\": [\n",
       "       {\n",
       "         \" `\": -3.410423,\n",
       "         \"1\": -1.379173,\n",
       "         \"0\": -1.8244855,\n",
       "         \" Yes\": -2.0432355,\n",
       "         \" No\": -3.441673\n",
       "       }\n",
       "     ],\n",
       "     \"text_offset\": [\n",
       "       2965\n",
       "     ]\n",
       "   },\n",
       "   \"finish_reason\": \"length\"\n",
       " }]"
      ]
     },
     "execution_count": 29,
     "metadata": {},
     "output_type": "execute_result"
    }
   ],
   "source": [
    "completions.choices"
   ]
  },
  {
   "cell_type": "code",
   "execution_count": 30,
   "metadata": {},
   "outputs": [
    {
     "ename": "AttributeError",
     "evalue": "'list' object has no attribute 'keys'",
     "output_type": "error",
     "traceback": [
      "\u001b[1;31m---------------------------------------------------------------------------\u001b[0m",
      "\u001b[1;31mAttributeError\u001b[0m                            Traceback (most recent call last)",
      "\u001b[1;32me:\\GitHub\\ButisCapstone4Fidelity\\llama.ipynb Cell 22\u001b[0m line \u001b[0;36m1\n\u001b[0;32m      <a href='vscode-notebook-cell:/e%3A/GitHub/ButisCapstone4Fidelity/llama.ipynb#X50sZmlsZQ%3D%3D?line=8'>9</a>\u001b[0m text \u001b[39m=\u001b[39m completions\u001b[39m.\u001b[39mchoices[\u001b[39m0\u001b[39m]\u001b[39m.\u001b[39mtext\u001b[39m.\u001b[39mstrip()\n\u001b[0;32m     <a href='vscode-notebook-cell:/e%3A/GitHub/ButisCapstone4Fidelity/llama.ipynb#X50sZmlsZQ%3D%3D?line=9'>10</a>\u001b[0m logprobs \u001b[39m=\u001b[39m completions\u001b[39m.\u001b[39mchoices[\u001b[39m0\u001b[39m]\u001b[39m.\u001b[39mlogprobs\u001b[39m.\u001b[39mtoken_logprobs\n\u001b[1;32m---> <a href='vscode-notebook-cell:/e%3A/GitHub/ButisCapstone4Fidelity/llama.ipynb#X50sZmlsZQ%3D%3D?line=10'>11</a>\u001b[0m tokens \u001b[39m=\u001b[39m logprobs\u001b[39m.\u001b[39;49mkeys()\n\u001b[0;32m     <a href='vscode-notebook-cell:/e%3A/GitHub/ButisCapstone4Fidelity/llama.ipynb#X50sZmlsZQ%3D%3D?line=11'>12</a>\u001b[0m probs \u001b[39m=\u001b[39m logprobs\u001b[39m.\u001b[39mvalues()\n\u001b[0;32m     <a href='vscode-notebook-cell:/e%3A/GitHub/ButisCapstone4Fidelity/llama.ipynb#X50sZmlsZQ%3D%3D?line=13'>14</a>\u001b[0m \u001b[39mfor\u001b[39;00m token, prob \u001b[39min\u001b[39;00m \u001b[39mzip\u001b[39m(tokens, probs):\n",
      "\u001b[1;31mAttributeError\u001b[0m: 'list' object has no attribute 'keys'"
     ]
    }
   ],
   "source": [
    "completions = openai.Completion.create(\n",
    "    engine=\"davinci-002\",\n",
    "    prompt=false_input_text,\n",
    "    max_tokens=1,\n",
    "    n=1,\n",
    "    logprobs=10,\n",
    ")\n",
    "\n",
    "text = completions.choices[0].text.strip()\n",
    "logprobs = completions.choices[0].logprobs.token_logprobs\n",
    "tokens = logprobs.keys()\n",
    "probs = logprobs.values()\n",
    "\n",
    "for token, prob in zip(tokens, probs):\n",
    "    print(f\"Token: {token}, Log Probability: {prob}\")"
   ]
  },
  {
   "cell_type": "code",
   "execution_count": 31,
   "metadata": {},
   "outputs": [
    {
     "data": {
      "text/plain": [
       "[<OpenAIObject at 0x26860317220> JSON: {\n",
       "   \"text\": \"11\",\n",
       "   \"index\": 0,\n",
       "   \"logprobs\": {\n",
       "     \"tokens\": [\n",
       "       \"11\"\n",
       "     ],\n",
       "     \"token_logprobs\": [\n",
       "       -6.108762\n",
       "     ],\n",
       "     \"top_logprobs\": [\n",
       "       {\n",
       "         \"1\": -1.3665743,\n",
       "         \"0\": -1.7415743,\n",
       "         \" Yes\": -2.1165743,\n",
       "         \" `\": -3.3118868,\n",
       "         \" No\": -3.4525118\n",
       "       }\n",
       "     ],\n",
       "     \"text_offset\": [\n",
       "       2952\n",
       "     ]\n",
       "   },\n",
       "   \"finish_reason\": \"length\"\n",
       " }]"
      ]
     },
     "execution_count": 31,
     "metadata": {},
     "output_type": "execute_result"
    }
   ],
   "source": [
    "completions.choices"
   ]
  }
 ],
 "metadata": {
  "kernelspec": {
   "display_name": "Butis",
   "language": "python",
   "name": "python3"
  },
  "language_info": {
   "codemirror_mode": {
    "name": "ipython",
    "version": 3
   },
   "file_extension": ".py",
   "mimetype": "text/x-python",
   "name": "python",
   "nbconvert_exporter": "python",
   "pygments_lexer": "ipython3",
   "version": "3.8.18"
  }
 },
 "nbformat": 4,
 "nbformat_minor": 2
}
