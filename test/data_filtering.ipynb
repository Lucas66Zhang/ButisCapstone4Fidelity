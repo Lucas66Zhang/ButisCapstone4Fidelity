{
 "cells": [
  {
   "cell_type": "code",
   "execution_count": 22,
   "metadata": {},
   "outputs": [],
   "source": [
    "import guidance\n",
    "import pandas as pd\n",
    "import matplotlib.pyplot as plt"
   ]
  },
  {
   "cell_type": "code",
   "execution_count": 23,
   "metadata": {},
   "outputs": [
    {
     "data": {
      "text/html": [
       "<div>\n",
       "<style scoped>\n",
       "    .dataframe tbody tr th:only-of-type {\n",
       "        vertical-align: middle;\n",
       "    }\n",
       "\n",
       "    .dataframe tbody tr th {\n",
       "        vertical-align: top;\n",
       "    }\n",
       "\n",
       "    .dataframe thead th {\n",
       "        text-align: right;\n",
       "    }\n",
       "</style>\n",
       "<table border=\"1\" class=\"dataframe\">\n",
       "  <thead>\n",
       "    <tr style=\"text-align: right;\">\n",
       "      <th></th>\n",
       "      <th>pdf_link</th>\n",
       "      <th>summary</th>\n",
       "      <th>text_extracted</th>\n",
       "      <th>text_extracted_len</th>\n",
       "      <th>summary_len</th>\n",
       "    </tr>\n",
       "  </thead>\n",
       "  <tbody>\n",
       "    <tr>\n",
       "      <th>0</th>\n",
       "      <td>https://www.sec.gov//litigation/complaints/200...</td>\n",
       "      <td>CORRECTEDThe Securities and Exchange Commissio...</td>\n",
       "      <td>1 | MARC J. FAGEL (Cal. Bar No. 154425) CARY S...</td>\n",
       "      <td>2125</td>\n",
       "      <td>392</td>\n",
       "    </tr>\n",
       "    <tr>\n",
       "      <th>1</th>\n",
       "      <td>https://www.sec.gov//litigation/complaints/200...</td>\n",
       "      <td>The United States Securities and Exchange Comm...</td>\n",
       "      <td>1 of 10 \\nCase 9:08-cv-81565-DTKH Document 1 E...</td>\n",
       "      <td>3169</td>\n",
       "      <td>621</td>\n",
       "    </tr>\n",
       "    <tr>\n",
       "      <th>2</th>\n",
       "      <td>https://www.sec.gov//litigation/complaints/200...</td>\n",
       "      <td>The Securities and Exchange Commission announc...</td>\n",
       "      <td>Case 3:08-cv-00438-B Document 164 Filed 12/22/...</td>\n",
       "      <td>11146</td>\n",
       "      <td>483</td>\n",
       "    </tr>\n",
       "    <tr>\n",
       "      <th>3</th>\n",
       "      <td>https://www.sec.gov//litigation/complaints/200...</td>\n",
       "      <td>The Securities and Exchange Commission (\"Commi...</td>\n",
       "      <td>IN THE UNITED STATES DISTRICT COURT FOR THE TE...</td>\n",
       "      <td>2433</td>\n",
       "      <td>459</td>\n",
       "    </tr>\n",
       "    <tr>\n",
       "      <th>4</th>\n",
       "      <td>https://www.sec.gov//litigation/complaints/200...</td>\n",
       "      <td>The Securities and Exchange Commission (\"Commi...</td>\n",
       "      <td>IN THE UNITED STATES DISTRICT COURT FOR THE MI...</td>\n",
       "      <td>7015</td>\n",
       "      <td>494</td>\n",
       "    </tr>\n",
       "  </tbody>\n",
       "</table>\n",
       "</div>"
      ],
      "text/plain": [
       "                                            pdf_link  \\\n",
       "0  https://www.sec.gov//litigation/complaints/200...   \n",
       "1  https://www.sec.gov//litigation/complaints/200...   \n",
       "2  https://www.sec.gov//litigation/complaints/200...   \n",
       "3  https://www.sec.gov//litigation/complaints/200...   \n",
       "4  https://www.sec.gov//litigation/complaints/200...   \n",
       "\n",
       "                                             summary  \\\n",
       "0  CORRECTEDThe Securities and Exchange Commissio...   \n",
       "1  The United States Securities and Exchange Comm...   \n",
       "2  The Securities and Exchange Commission announc...   \n",
       "3  The Securities and Exchange Commission (\"Commi...   \n",
       "4  The Securities and Exchange Commission (\"Commi...   \n",
       "\n",
       "                                      text_extracted  text_extracted_len  \\\n",
       "0  1 | MARC J. FAGEL (Cal. Bar No. 154425) CARY S...                2125   \n",
       "1  1 of 10 \\nCase 9:08-cv-81565-DTKH Document 1 E...                3169   \n",
       "2  Case 3:08-cv-00438-B Document 164 Filed 12/22/...               11146   \n",
       "3  IN THE UNITED STATES DISTRICT COURT FOR THE TE...                2433   \n",
       "4  IN THE UNITED STATES DISTRICT COURT FOR THE MI...                7015   \n",
       "\n",
       "   summary_len  \n",
       "0          392  \n",
       "1          621  \n",
       "2          483  \n",
       "3          459  \n",
       "4          494  "
      ]
     },
     "execution_count": 23,
     "metadata": {},
     "output_type": "execute_result"
    }
   ],
   "source": [
    "df = pd.read_csv('../data/final_version_withtext_cleaned.csv', index_col=0)\n",
    "df.head()"
   ]
  },
  {
   "cell_type": "markdown",
   "metadata": {},
   "source": [
    "## Extracted Text Length"
   ]
  },
  {
   "cell_type": "code",
   "execution_count": 24,
   "metadata": {},
   "outputs": [
    {
     "data": {
      "text/plain": [
       "<Axes: ylabel='Frequency'>"
      ]
     },
     "execution_count": 24,
     "metadata": {},
     "output_type": "execute_result"
    },
    {
     "data": {
      "image/png": "[encoded data removed]",
      "text/plain": [
       "<Figure size 640x480 with 1 Axes>"
      ]
     },
     "metadata": {},
     "output_type": "display_data"
    }
   ],
   "source": [
    "df['text_extracted_len'].plot.hist(bins=100)"
   ]
  },
  {
   "cell_type": "code",
   "execution_count": 25,
   "metadata": {},
   "outputs": [
    {
     "data": {
      "text/plain": [
       "count     2333.000000\n",
       "mean      5478.870553\n",
       "std       3594.251125\n",
       "min          1.000000\n",
       "25%       3117.000000\n",
       "50%       4510.000000\n",
       "75%       6664.000000\n",
       "max      33588.000000\n",
       "Name: text_extracted_len, dtype: float64"
      ]
     },
     "execution_count": 25,
     "metadata": {},
     "output_type": "execute_result"
    }
   ],
   "source": [
    "df['text_extracted_len'].describe()"
   ]
  },
  {
   "cell_type": "markdown",
   "metadata": {},
   "source": [
    "## Summary Text length"
   ]
  },
  {
   "cell_type": "code",
   "execution_count": 26,
   "metadata": {},
   "outputs": [
    {
     "data": {
      "text/plain": [
       "<Axes: ylabel='Frequency'>"
      ]
     },
     "execution_count": 26,
     "metadata": {},
     "output_type": "execute_result"
    },
    {
     "data": {
      "image/png": "[encoded data removed]",
      "text/plain": [
       "<Figure size 640x480 with 1 Axes>"
      ]
     },
     "metadata": {},
     "output_type": "display_data"
    }
   ],
   "source": [
    "df['summary_len'].plot.hist(bins=100)"
   ]
  },
  {
   "cell_type": "code",
   "execution_count": 27,
   "metadata": {},
   "outputs": [
    {
     "data": {
      "text/plain": [
       "count    2333.000000\n",
       "mean      417.513073\n",
       "std       152.230772\n",
       "min       104.000000\n",
       "25%       319.000000\n",
       "50%       388.000000\n",
       "75%       479.000000\n",
       "max      1408.000000\n",
       "Name: summary_len, dtype: float64"
      ]
     },
     "execution_count": 27,
     "metadata": {},
     "output_type": "execute_result"
    }
   ],
   "source": [
    "df['summary_len'].describe()"
   ]
  },
  {
   "cell_type": "code",
   "execution_count": 29,
   "metadata": {},
   "outputs": [
    {
     "data": {
      "text/plain": [
       "(2293, 5)"
      ]
     },
     "execution_count": 29,
     "metadata": {},
     "output_type": "execute_result"
    }
   ],
   "source": [
    "df.drop_duplicates(subset=['text_extracted'], inplace=True)\n",
    "df.shape\n"
   ]
  },
  {
   "cell_type": "markdown",
   "metadata": {},
   "source": [
    "## Get number of sentences"
   ]
  },
  {
   "cell_type": "code",
   "execution_count": 30,
   "metadata": {},
   "outputs": [
    {
     "data": {
      "text/html": [
       "<div>\n",
       "<style scoped>\n",
       "    .dataframe tbody tr th:only-of-type {\n",
       "        vertical-align: middle;\n",
       "    }\n",
       "\n",
       "    .dataframe tbody tr th {\n",
       "        vertical-align: top;\n",
       "    }\n",
       "\n",
       "    .dataframe thead th {\n",
       "        text-align: right;\n",
       "    }\n",
       "</style>\n",
       "<table border=\"1\" class=\"dataframe\">\n",
       "  <thead>\n",
       "    <tr style=\"text-align: right;\">\n",
       "      <th></th>\n",
       "      <th>pdf_link</th>\n",
       "      <th>summary</th>\n",
       "      <th>text_extracted</th>\n",
       "      <th>text_extracted_len</th>\n",
       "      <th>summary_len</th>\n",
       "      <th>summary_sentences_len</th>\n",
       "      <th>text_extracted_sentences_len</th>\n",
       "    </tr>\n",
       "  </thead>\n",
       "  <tbody>\n",
       "    <tr>\n",
       "      <th>0</th>\n",
       "      <td>https://www.sec.gov//litigation/complaints/200...</td>\n",
       "      <td>CORRECTEDThe Securities and Exchange Commissio...</td>\n",
       "      <td>1 | MARC J. FAGEL (Cal. Bar No. 154425) CARY S...</td>\n",
       "      <td>2125</td>\n",
       "      <td>392</td>\n",
       "      <td>20</td>\n",
       "      <td>201.0</td>\n",
       "    </tr>\n",
       "    <tr>\n",
       "      <th>1</th>\n",
       "      <td>https://www.sec.gov//litigation/complaints/200...</td>\n",
       "      <td>The United States Securities and Exchange Comm...</td>\n",
       "      <td>1 of 10 \\nCase 9:08-cv-81565-DTKH Document 1 E...</td>\n",
       "      <td>3169</td>\n",
       "      <td>621</td>\n",
       "      <td>37</td>\n",
       "      <td>218.0</td>\n",
       "    </tr>\n",
       "    <tr>\n",
       "      <th>2</th>\n",
       "      <td>https://www.sec.gov//litigation/complaints/200...</td>\n",
       "      <td>The Securities and Exchange Commission announc...</td>\n",
       "      <td>Case 3:08-cv-00438-B Document 164 Filed 12/22/...</td>\n",
       "      <td>11146</td>\n",
       "      <td>483</td>\n",
       "      <td>38</td>\n",
       "      <td>1034.0</td>\n",
       "    </tr>\n",
       "    <tr>\n",
       "      <th>3</th>\n",
       "      <td>https://www.sec.gov//litigation/complaints/200...</td>\n",
       "      <td>The Securities and Exchange Commission (\"Commi...</td>\n",
       "      <td>IN THE UNITED STATES DISTRICT COURT FOR THE TE...</td>\n",
       "      <td>2433</td>\n",
       "      <td>459</td>\n",
       "      <td>19</td>\n",
       "      <td>193.0</td>\n",
       "    </tr>\n",
       "    <tr>\n",
       "      <th>4</th>\n",
       "      <td>https://www.sec.gov//litigation/complaints/200...</td>\n",
       "      <td>The Securities and Exchange Commission (\"Commi...</td>\n",
       "      <td>IN THE UNITED STATES DISTRICT COURT FOR THE MI...</td>\n",
       "      <td>7015</td>\n",
       "      <td>494</td>\n",
       "      <td>22</td>\n",
       "      <td>491.0</td>\n",
       "    </tr>\n",
       "  </tbody>\n",
       "</table>\n",
       "</div>"
      ],
      "text/plain": [
       "                                            pdf_link  \\\n",
       "0  https://www.sec.gov//litigation/complaints/200...   \n",
       "1  https://www.sec.gov//litigation/complaints/200...   \n",
       "2  https://www.sec.gov//litigation/complaints/200...   \n",
       "3  https://www.sec.gov//litigation/complaints/200...   \n",
       "4  https://www.sec.gov//litigation/complaints/200...   \n",
       "\n",
       "                                             summary  \\\n",
       "0  CORRECTEDThe Securities and Exchange Commissio...   \n",
       "1  The United States Securities and Exchange Comm...   \n",
       "2  The Securities and Exchange Commission announc...   \n",
       "3  The Securities and Exchange Commission (\"Commi...   \n",
       "4  The Securities and Exchange Commission (\"Commi...   \n",
       "\n",
       "                                      text_extracted  text_extracted_len  \\\n",
       "0  1 | MARC J. FAGEL (Cal. Bar No. 154425) CARY S...                2125   \n",
       "1  1 of 10 \\nCase 9:08-cv-81565-DTKH Document 1 E...                3169   \n",
       "2  Case 3:08-cv-00438-B Document 164 Filed 12/22/...               11146   \n",
       "3  IN THE UNITED STATES DISTRICT COURT FOR THE TE...                2433   \n",
       "4  IN THE UNITED STATES DISTRICT COURT FOR THE MI...                7015   \n",
       "\n",
       "   summary_len  summary_sentences_len  text_extracted_sentences_len  \n",
       "0          392                     20                         201.0  \n",
       "1          621                     37                         218.0  \n",
       "2          483                     38                        1034.0  \n",
       "3          459                     19                         193.0  \n",
       "4          494                     22                         491.0  "
      ]
     },
     "execution_count": 30,
     "metadata": {},
     "output_type": "execute_result"
    }
   ],
   "source": [
    "df['summary_sentences_len'] = df[df['summary'].notnull()]['summary'].apply(lambda x: x.split('.').__len__())\n",
    "df = df.reset_index(drop=True)\n",
    "df['text_extracted_sentences_len'] = df[df['text_extracted'].notnull()]['text_extracted'].apply(lambda x: x.split('.').__len__())\n",
    "df.head()"
   ]
  },
  {
   "cell_type": "code",
   "execution_count": 31,
   "metadata": {},
   "outputs": [
    {
     "data": {
      "text/plain": [
       "(2293, 7)"
      ]
     },
     "execution_count": 31,
     "metadata": {},
     "output_type": "execute_result"
    }
   ],
   "source": [
    "df.shape"
   ]
  },
  {
   "cell_type": "markdown",
   "metadata": {},
   "source": [
    "## Summary Sentence Length"
   ]
  },
  {
   "cell_type": "code",
   "execution_count": 32,
   "metadata": {},
   "outputs": [
    {
     "data": {
      "text/plain": [
       "<Axes: ylabel='Frequency'>"
      ]
     },
     "execution_count": 32,
     "metadata": {},
     "output_type": "execute_result"
    },
    {
     "data": {
      "image/png": "[encoded data removed]",
      "text/plain": [
       "<Figure size 640x480 with 1 Axes>"
      ]
     },
     "metadata": {},
     "output_type": "display_data"
    }
   ],
   "source": [
    "df['summary_sentences_len'].plot.hist(bins=100)"
   ]
  },
  {
   "cell_type": "code",
   "execution_count": 33,
   "metadata": {},
   "outputs": [
    {
     "data": {
      "text/plain": [
       "count    2293.000000\n",
       "mean       21.983428\n",
       "std         8.870293\n",
       "min         5.000000\n",
       "25%        16.000000\n",
       "50%        20.000000\n",
       "75%        26.000000\n",
       "max        95.000000\n",
       "Name: summary_sentences_len, dtype: float64"
      ]
     },
     "execution_count": 33,
     "metadata": {},
     "output_type": "execute_result"
    }
   ],
   "source": [
    "df['summary_sentences_len'].describe()"
   ]
  },
  {
   "cell_type": "markdown",
   "metadata": {},
   "source": [
    "## Extracted Sentence Length"
   ]
  },
  {
   "cell_type": "code",
   "execution_count": 34,
   "metadata": {},
   "outputs": [
    {
     "data": {
      "text/plain": [
       "<Axes: ylabel='Frequency'>"
      ]
     },
     "execution_count": 34,
     "metadata": {},
     "output_type": "execute_result"
    },
    {
     "data": {
      "image/png": "[encoded data removed]",
      "text/plain": [
       "<Figure size 640x480 with 1 Axes>"
      ]
     },
     "metadata": {},
     "output_type": "display_data"
    }
   ],
   "source": [
    "df['text_extracted_sentences_len'].plot.hist(bins=100)"
   ]
  },
  {
   "cell_type": "markdown",
   "metadata": {},
   "source": [
    "## Filter by number of Summary Sentences (<=40)"
   ]
  },
  {
   "cell_type": "code",
   "execution_count": 35,
   "metadata": {},
   "outputs": [
    {
     "data": {
      "text/html": [
       "<div>\n",
       "<style scoped>\n",
       "    .dataframe tbody tr th:only-of-type {\n",
       "        vertical-align: middle;\n",
       "    }\n",
       "\n",
       "    .dataframe tbody tr th {\n",
       "        vertical-align: top;\n",
       "    }\n",
       "\n",
       "    .dataframe thead th {\n",
       "        text-align: right;\n",
       "    }\n",
       "</style>\n",
       "<table border=\"1\" class=\"dataframe\">\n",
       "  <thead>\n",
       "    <tr style=\"text-align: right;\">\n",
       "      <th></th>\n",
       "      <th>pdf_link</th>\n",
       "      <th>summary</th>\n",
       "      <th>text_extracted</th>\n",
       "      <th>text_extracted_len</th>\n",
       "      <th>summary_len</th>\n",
       "      <th>summary_sentences_len</th>\n",
       "      <th>text_extracted_sentences_len</th>\n",
       "    </tr>\n",
       "  </thead>\n",
       "  <tbody>\n",
       "    <tr>\n",
       "      <th>0</th>\n",
       "      <td>https://www.sec.gov//litigation/complaints/200...</td>\n",
       "      <td>CORRECTEDThe Securities and Exchange Commissio...</td>\n",
       "      <td>1 | MARC J. FAGEL (Cal. Bar No. 154425) CARY S...</td>\n",
       "      <td>2125</td>\n",
       "      <td>392</td>\n",
       "      <td>20</td>\n",
       "      <td>201.0</td>\n",
       "    </tr>\n",
       "    <tr>\n",
       "      <th>1</th>\n",
       "      <td>https://www.sec.gov//litigation/complaints/200...</td>\n",
       "      <td>The United States Securities and Exchange Comm...</td>\n",
       "      <td>1 of 10 \\nCase 9:08-cv-81565-DTKH Document 1 E...</td>\n",
       "      <td>3169</td>\n",
       "      <td>621</td>\n",
       "      <td>37</td>\n",
       "      <td>218.0</td>\n",
       "    </tr>\n",
       "    <tr>\n",
       "      <th>2</th>\n",
       "      <td>https://www.sec.gov//litigation/complaints/200...</td>\n",
       "      <td>The Securities and Exchange Commission announc...</td>\n",
       "      <td>Case 3:08-cv-00438-B Document 164 Filed 12/22/...</td>\n",
       "      <td>11146</td>\n",
       "      <td>483</td>\n",
       "      <td>38</td>\n",
       "      <td>1034.0</td>\n",
       "    </tr>\n",
       "    <tr>\n",
       "      <th>3</th>\n",
       "      <td>https://www.sec.gov//litigation/complaints/200...</td>\n",
       "      <td>The Securities and Exchange Commission (\"Commi...</td>\n",
       "      <td>IN THE UNITED STATES DISTRICT COURT FOR THE TE...</td>\n",
       "      <td>2433</td>\n",
       "      <td>459</td>\n",
       "      <td>19</td>\n",
       "      <td>193.0</td>\n",
       "    </tr>\n",
       "    <tr>\n",
       "      <th>4</th>\n",
       "      <td>https://www.sec.gov//litigation/complaints/200...</td>\n",
       "      <td>The Securities and Exchange Commission (\"Commi...</td>\n",
       "      <td>IN THE UNITED STATES DISTRICT COURT FOR THE MI...</td>\n",
       "      <td>7015</td>\n",
       "      <td>494</td>\n",
       "      <td>22</td>\n",
       "      <td>491.0</td>\n",
       "    </tr>\n",
       "  </tbody>\n",
       "</table>\n",
       "</div>"
      ],
      "text/plain": [
       "                                            pdf_link  \\\n",
       "0  https://www.sec.gov//litigation/complaints/200...   \n",
       "1  https://www.sec.gov//litigation/complaints/200...   \n",
       "2  https://www.sec.gov//litigation/complaints/200...   \n",
       "3  https://www.sec.gov//litigation/complaints/200...   \n",
       "4  https://www.sec.gov//litigation/complaints/200...   \n",
       "\n",
       "                                             summary  \\\n",
       "0  CORRECTEDThe Securities and Exchange Commissio...   \n",
       "1  The United States Securities and Exchange Comm...   \n",
       "2  The Securities and Exchange Commission announc...   \n",
       "3  The Securities and Exchange Commission (\"Commi...   \n",
       "4  The Securities and Exchange Commission (\"Commi...   \n",
       "\n",
       "                                      text_extracted  text_extracted_len  \\\n",
       "0  1 | MARC J. FAGEL (Cal. Bar No. 154425) CARY S...                2125   \n",
       "1  1 of 10 \\nCase 9:08-cv-81565-DTKH Document 1 E...                3169   \n",
       "2  Case 3:08-cv-00438-B Document 164 Filed 12/22/...               11146   \n",
       "3  IN THE UNITED STATES DISTRICT COURT FOR THE TE...                2433   \n",
       "4  IN THE UNITED STATES DISTRICT COURT FOR THE MI...                7015   \n",
       "\n",
       "   summary_len  summary_sentences_len  text_extracted_sentences_len  \n",
       "0          392                     20                         201.0  \n",
       "1          621                     37                         218.0  \n",
       "2          483                     38                        1034.0  \n",
       "3          459                     19                         193.0  \n",
       "4          494                     22                         491.0  "
      ]
     },
     "execution_count": 35,
     "metadata": {},
     "output_type": "execute_result"
    }
   ],
   "source": [
    "# drop summary sentences more than 40\n",
    "df = df[df['summary_sentences_len'] <= 40]\n",
    "df = df.reset_index(drop=True)\n",
    "df.head()"
   ]
  },
  {
   "cell_type": "code",
   "execution_count": 36,
   "metadata": {},
   "outputs": [
    {
     "data": {
      "text/plain": [
       "(2208, 7)"
      ]
     },
     "execution_count": 36,
     "metadata": {},
     "output_type": "execute_result"
    }
   ],
   "source": [
    "df.shape"
   ]
  },
  {
   "cell_type": "code",
   "execution_count": 37,
   "metadata": {},
   "outputs": [
    {
     "data": {
      "text/plain": [
       "<Axes: ylabel='Frequency'>"
      ]
     },
     "execution_count": 37,
     "metadata": {},
     "output_type": "execute_result"
    },
    {
     "data": {
      "image/png": "[encoded data removed]",
      "text/plain": [
       "<Figure size 640x480 with 1 Axes>"
      ]
     },
     "metadata": {},
     "output_type": "display_data"
    }
   ],
   "source": [
    "df['summary_sentences_len'].plot.hist(bins=100)"
   ]
  },
  {
   "cell_type": "code",
   "execution_count": 38,
   "metadata": {},
   "outputs": [
    {
     "data": {
      "text/plain": [
       "<Axes: ylabel='Frequency'>"
      ]
     },
     "execution_count": 38,
     "metadata": {},
     "output_type": "execute_result"
    },
    {
     "data": {
      "image/png": "[encoded data removed]",
      "text/plain": [
       "<Figure size 640x480 with 1 Axes>"
      ]
     },
     "metadata": {},
     "output_type": "display_data"
    }
   ],
   "source": [
    "df['text_extracted_sentences_len'].plot.hist(bins=100)"
   ]
  },
  {
   "cell_type": "markdown",
   "metadata": {},
   "source": [
    "## Filter by number of Extracted Sentences (<=1000)"
   ]
  },
  {
   "cell_type": "code",
   "execution_count": 39,
   "metadata": {},
   "outputs": [
    {
     "data": {
      "text/html": [
       "<div>\n",
       "<style scoped>\n",
       "    .dataframe tbody tr th:only-of-type {\n",
       "        vertical-align: middle;\n",
       "    }\n",
       "\n",
       "    .dataframe tbody tr th {\n",
       "        vertical-align: top;\n",
       "    }\n",
       "\n",
       "    .dataframe thead th {\n",
       "        text-align: right;\n",
       "    }\n",
       "</style>\n",
       "<table border=\"1\" class=\"dataframe\">\n",
       "  <thead>\n",
       "    <tr style=\"text-align: right;\">\n",
       "      <th></th>\n",
       "      <th>pdf_link</th>\n",
       "      <th>summary</th>\n",
       "      <th>text_extracted</th>\n",
       "      <th>text_extracted_len</th>\n",
       "      <th>summary_len</th>\n",
       "      <th>summary_sentences_len</th>\n",
       "      <th>text_extracted_sentences_len</th>\n",
       "    </tr>\n",
       "  </thead>\n",
       "  <tbody>\n",
       "    <tr>\n",
       "      <th>0</th>\n",
       "      <td>https://www.sec.gov//litigation/complaints/200...</td>\n",
       "      <td>CORRECTEDThe Securities and Exchange Commissio...</td>\n",
       "      <td>1 | MARC J. FAGEL (Cal. Bar No. 154425) CARY S...</td>\n",
       "      <td>2125</td>\n",
       "      <td>392</td>\n",
       "      <td>20</td>\n",
       "      <td>201.0</td>\n",
       "    </tr>\n",
       "    <tr>\n",
       "      <th>1</th>\n",
       "      <td>https://www.sec.gov//litigation/complaints/200...</td>\n",
       "      <td>The United States Securities and Exchange Comm...</td>\n",
       "      <td>1 of 10 \\nCase 9:08-cv-81565-DTKH Document 1 E...</td>\n",
       "      <td>3169</td>\n",
       "      <td>621</td>\n",
       "      <td>37</td>\n",
       "      <td>218.0</td>\n",
       "    </tr>\n",
       "    <tr>\n",
       "      <th>2</th>\n",
       "      <td>https://www.sec.gov//litigation/complaints/200...</td>\n",
       "      <td>The Securities and Exchange Commission (\"Commi...</td>\n",
       "      <td>IN THE UNITED STATES DISTRICT COURT FOR THE TE...</td>\n",
       "      <td>2433</td>\n",
       "      <td>459</td>\n",
       "      <td>19</td>\n",
       "      <td>193.0</td>\n",
       "    </tr>\n",
       "    <tr>\n",
       "      <th>3</th>\n",
       "      <td>https://www.sec.gov//litigation/complaints/200...</td>\n",
       "      <td>The Securities and Exchange Commission (\"Commi...</td>\n",
       "      <td>IN THE UNITED STATES DISTRICT COURT FOR THE MI...</td>\n",
       "      <td>7015</td>\n",
       "      <td>494</td>\n",
       "      <td>22</td>\n",
       "      <td>491.0</td>\n",
       "    </tr>\n",
       "    <tr>\n",
       "      <th>4</th>\n",
       "      <td>https://www.sec.gov//litigation/complaints/200...</td>\n",
       "      <td>The Securities and Exchange Commission today f...</td>\n",
       "      <td>10f6 \\n08-61524-CIV-DIMITROULEAS/ROSENBAUM \\nU...</td>\n",
       "      <td>1270</td>\n",
       "      <td>356</td>\n",
       "      <td>16</td>\n",
       "      <td>107.0</td>\n",
       "    </tr>\n",
       "  </tbody>\n",
       "</table>\n",
       "</div>"
      ],
      "text/plain": [
       "                                            pdf_link  \\\n",
       "0  https://www.sec.gov//litigation/complaints/200...   \n",
       "1  https://www.sec.gov//litigation/complaints/200...   \n",
       "2  https://www.sec.gov//litigation/complaints/200...   \n",
       "3  https://www.sec.gov//litigation/complaints/200...   \n",
       "4  https://www.sec.gov//litigation/complaints/200...   \n",
       "\n",
       "                                             summary  \\\n",
       "0  CORRECTEDThe Securities and Exchange Commissio...   \n",
       "1  The United States Securities and Exchange Comm...   \n",
       "2  The Securities and Exchange Commission (\"Commi...   \n",
       "3  The Securities and Exchange Commission (\"Commi...   \n",
       "4  The Securities and Exchange Commission today f...   \n",
       "\n",
       "                                      text_extracted  text_extracted_len  \\\n",
       "0  1 | MARC J. FAGEL (Cal. Bar No. 154425) CARY S...                2125   \n",
       "1  1 of 10 \\nCase 9:08-cv-81565-DTKH Document 1 E...                3169   \n",
       "2  IN THE UNITED STATES DISTRICT COURT FOR THE TE...                2433   \n",
       "3  IN THE UNITED STATES DISTRICT COURT FOR THE MI...                7015   \n",
       "4  10f6 \\n08-61524-CIV-DIMITROULEAS/ROSENBAUM \\nU...                1270   \n",
       "\n",
       "   summary_len  summary_sentences_len  text_extracted_sentences_len  \n",
       "0          392                     20                         201.0  \n",
       "1          621                     37                         218.0  \n",
       "2          459                     19                         193.0  \n",
       "3          494                     22                         491.0  \n",
       "4          356                     16                         107.0  "
      ]
     },
     "execution_count": 39,
     "metadata": {},
     "output_type": "execute_result"
    }
   ],
   "source": [
    "# drop text_extracted sentences more than 1000\n",
    "df = df[df['text_extracted_sentences_len'] <= 1000]\n",
    "df = df.reset_index(drop=True)\n",
    "df.head()"
   ]
  },
  {
   "cell_type": "code",
   "execution_count": 40,
   "metadata": {},
   "outputs": [
    {
     "data": {
      "text/plain": [
       "<Axes: ylabel='Frequency'>"
      ]
     },
     "execution_count": 40,
     "metadata": {},
     "output_type": "execute_result"
    },
    {
     "data": {
      "image/png": "[encoded data removed]",
      "text/plain": [
       "<Figure size 640x480 with 1 Axes>"
      ]
     },
     "metadata": {},
     "output_type": "display_data"
    }
   ],
   "source": [
    "df['text_extracted_sentences_len'].plot.hist(bins=100)"
   ]
  },
  {
   "cell_type": "code",
   "execution_count": 41,
   "metadata": {},
   "outputs": [
    {
     "data": {
      "text/plain": [
       "<Axes: ylabel='Frequency'>"
      ]
     },
     "execution_count": 41,
     "metadata": {},
     "output_type": "execute_result"
    },
    {
     "data": {
      "image/png": "[encoded data removed]",
      "text/plain": [
       "<Figure size 640x480 with 1 Axes>"
      ]
     },
     "metadata": {},
     "output_type": "display_data"
    }
   ],
   "source": [
    "df['text_extracted_len'].plot.hist(bins=100)"
   ]
  },
  {
   "cell_type": "code",
   "execution_count": 42,
   "metadata": {},
   "outputs": [],
   "source": [
    "df.to_csv('../data/filtered_data.csv')"
   ]
  },
  {
   "cell_type": "code",
   "execution_count": 43,
   "metadata": {},
   "outputs": [
    {
     "data": {
      "text/plain": [
       "(2149, 7)"
      ]
     },
     "execution_count": 43,
     "metadata": {},
     "output_type": "execute_result"
    }
   ],
   "source": [
    "df.shape"
   ]
  },
  {
   "cell_type": "code",
   "execution_count": null,
   "metadata": {},
   "outputs": [],
   "source": []
  }
 ],
 "metadata": {
  "kernelspec": {
   "display_name": "Butis",
   "language": "python",
   "name": "python3"
  },
  "language_info": {
   "codemirror_mode": {
    "name": "ipython",
    "version": 3
   },
   "file_extension": ".py",
   "mimetype": "text/x-python",
   "name": "python",
   "nbconvert_exporter": "python",
   "pygments_lexer": "ipython3",
   "version": "3.8.18"
  }
 },
 "nbformat": 4,
 "nbformat_minor": 2
}
