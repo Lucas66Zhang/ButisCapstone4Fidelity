{
 "cells": [
  {
   "cell_type": "markdown",
   "id": "88b6b9356b2e6b53",
   "metadata": {
    "collapsed": false
   },
   "source": [
    "# Presentaion of Our Methods\n",
    "The topic of our project is to design a metric to evaluate teh quality of summaries given the original text. After discussion and paper reading, we think that a good metric for this task should have the following properties:\n",
    "1. It should be able to tell a good summary from a bad one (The scores of them should be as different as possible).\n",
    "2. It should be able to discern varying degrees of factual distortion (Given any two summaries according to the same document, the worse one should be scored lower).\n",
    "3. It should be able to make evaluation based on the detail of the summary (Give the reason why it makes such an evaluation result).\n",
    "\n",
    "In this notebook, we will present our methods for the project and the results we obtained. The presentation will be divided into following parts, each part will cover the above three properties:\n",
    "1. Results of baseline metrics\n",
    "2. Results of our methods\n",
    "3. Comparison of our methods with baseline metrics\n",
    "4. Conclusion"
   ]
  },
  {
   "cell_type": "code",
   "execution_count": 1,
   "id": "initial_id",
   "metadata": {
    "ExecuteTime": {
     "end_time": "2023-11-28T03:54:52.157663Z",
     "start_time": "2023-11-28T03:54:46.563510Z"
    },
    "collapsed": true
   },
   "outputs": [
    {
     "name": "stderr",
     "output_type": "stream",
     "text": [
      "c:\\Users\\Alex\\miniconda3\\lib\\site-packages\\tqdm\\auto.py:21: TqdmWarning: IProgress not found. Please update jupyter and ipywidgets. See https://ipywidgets.readthedocs.io/en/stable/user_install.html\n",
      "  from .autonotebook import tqdm as notebook_tqdm\n",
      "[nltk_data] Downloading package wordnet to\n",
      "[nltk_data]     C:\\Users\\Alex\\AppData\\Roaming\\nltk_data...\n",
      "[nltk_data]   Package wordnet is already up-to-date!\n",
      "[nltk_data] Downloading package punkt to\n",
      "[nltk_data]     C:\\Users\\Alex\\AppData\\Roaming\\nltk_data...\n",
      "[nltk_data]   Package punkt is already up-to-date!\n"
     ]
    }
   ],
   "source": [
    "# Importing libraries\n",
    "import os\n",
    "import pandas as pd\n",
    "import numpy as np\n",
    "import pandas as pd\n",
    "from tqdm import tqdm\n",
    "import matplotlib.pyplot as plt\n",
    "import seaborn as sns\n",
    "pd.options.plotting.backend = \"plotly\"\n",
    "from pipeline import SummaryGrader, NER_comparison, highlight_sent, cos_similariy, Baseline\n",
    "os.environ['OPENAI_API_KEY'] = 'Your OpenAi API Key'"
   ]
  },
  {
   "cell_type": "markdown",
   "metadata": {},
   "source": [
    "File Overview:\n",
    "\n",
    "- Title: falsified_summaries.csv\n",
    "- Purpose: The dataset we used for our project\n",
    "- Source: SEC litigation releases\n",
    "- Date of creation: 2023-11-27\n",
    "- Last modified: 2023-11-27 \n",
    "\n",
    "\n",
    "Column Description:\n",
    "\n",
    "1. pdf_link: The link to the pdf file of the litigation release\n",
    "2. summary: The summary of the litigation release\n",
    "3. text_extracted: The text extracted from the pdf file\n",
    "4. falsified_summary: The summary of the litigation release with factual distortion\n",
    "5. falsified_index: The index of the sentence in the original text that is distorted\n",
    "\n",
    "General Formatting Rules:\n",
    "\n",
    "- Delimiter: \",\"\n",
    "- Encoding: UTF-8"
   ]
  },
  {
   "cell_type": "code",
   "execution_count": 39,
   "metadata": {},
   "outputs": [
    {
     "data": {
      "text/html": [
       "<div>\n",
       "<style scoped>\n",
       "    .dataframe tbody tr th:only-of-type {\n",
       "        vertical-align: middle;\n",
       "    }\n",
       "\n",
       "    .dataframe tbody tr th {\n",
       "        vertical-align: top;\n",
       "    }\n",
       "\n",
       "    .dataframe thead th {\n",
       "        text-align: right;\n",
       "    }\n",
       "</style>\n",
       "<table border=\"1\" class=\"dataframe\">\n",
       "  <thead>\n",
       "    <tr style=\"text-align: right;\">\n",
       "      <th></th>\n",
       "      <th>pdf_link</th>\n",
       "      <th>summary</th>\n",
       "      <th>text_extracted</th>\n",
       "      <th>falsified_summary</th>\n",
       "      <th>falsified_index</th>\n",
       "      <th>good_cos_similarity</th>\n",
       "      <th>bad_cos_similarity</th>\n",
       "      <th>good_llm_score</th>\n",
       "      <th>bad_llm_score</th>\n",
       "      <th>good_llm_mismatch</th>\n",
       "      <th>bad_llm_mismatch</th>\n",
       "    </tr>\n",
       "  </thead>\n",
       "  <tbody>\n",
       "    <tr>\n",
       "      <th>0</th>\n",
       "      <td>https://www.sec.gov//litigation/complaints/200...</td>\n",
       "      <td>CORRECTEDThe Securities and Exchange Commissio...</td>\n",
       "      <td>TRACY L. DAVIS (Cal. Bar No. 184129)  Attorne...</td>\n",
       "      <td>CORRECTEDThe Securities and Exchange Commissio...</td>\n",
       "      <td>[2, 5, 6, 8, 9]</td>\n",
       "      <td>NaN</td>\n",
       "      <td>NaN</td>\n",
       "      <td>NaN</td>\n",
       "      <td>NaN</td>\n",
       "      <td></td>\n",
       "      <td></td>\n",
       "    </tr>\n",
       "    <tr>\n",
       "      <th>1</th>\n",
       "      <td>https://www.sec.gov//litigation/complaints/200...</td>\n",
       "      <td>The United States Securities and Exchange Comm...</td>\n",
       "      <td>ELECTRONIC \\nDEC 29, 2008 \\nSTEVEN M, LARIMORE...</td>\n",
       "      <td>The Canadian Securities and Exchange Commissio...</td>\n",
       "      <td>[0, 1, 2, 4, 5, 6, 8, 12, 13, 18]</td>\n",
       "      <td>NaN</td>\n",
       "      <td>NaN</td>\n",
       "      <td>NaN</td>\n",
       "      <td>NaN</td>\n",
       "      <td></td>\n",
       "      <td></td>\n",
       "    </tr>\n",
       "    <tr>\n",
       "      <th>2</th>\n",
       "      <td>https://www.sec.gov//litigation/complaints/200...</td>\n",
       "      <td>The Securities and Exchange Commission (\"Commi...</td>\n",
       "      <td>2006 SEP 30 AN 8: 24 \\nU.S: COURT MIBDLE GISTR...</td>\n",
       "      <td>The Securities and Exchange Commission (\"Commi...</td>\n",
       "      <td>[1, 2, 5, 6, 8, 9]</td>\n",
       "      <td>NaN</td>\n",
       "      <td>NaN</td>\n",
       "      <td>NaN</td>\n",
       "      <td>NaN</td>\n",
       "      <td></td>\n",
       "      <td></td>\n",
       "    </tr>\n",
       "    <tr>\n",
       "      <th>3</th>\n",
       "      <td>https://www.sec.gov//litigation/complaints/200...</td>\n",
       "      <td>The Securities and Exchange Commission (\"Commi...</td>\n",
       "      <td>IN THE UNITED STATES DISTRICT COURT FOR THE MI...</td>\n",
       "      <td>The Securities and Exchange Commission (\"Commi...</td>\n",
       "      <td>[0, 1, 4, 7, 8]</td>\n",
       "      <td>NaN</td>\n",
       "      <td>NaN</td>\n",
       "      <td>NaN</td>\n",
       "      <td>NaN</td>\n",
       "      <td></td>\n",
       "      <td></td>\n",
       "    </tr>\n",
       "    <tr>\n",
       "      <th>4</th>\n",
       "      <td>https://www.sec.gov//litigation/complaints/200...</td>\n",
       "      <td>The Securities and Exchange Commission today f...</td>\n",
       "      <td>08-61524-CIV-DIMITROULEAS/ROSENBAUM \\nUNITED S...</td>\n",
       "      <td>The Securities and Exchange Commission today f...</td>\n",
       "      <td>[0, 1, 3, 4, 6, 7]</td>\n",
       "      <td>NaN</td>\n",
       "      <td>NaN</td>\n",
       "      <td>NaN</td>\n",
       "      <td>NaN</td>\n",
       "      <td></td>\n",
       "      <td></td>\n",
       "    </tr>\n",
       "  </tbody>\n",
       "</table>\n",
       "</div>"
      ],
      "text/plain": [
       "                                            pdf_link  \\\n",
       "0  https://www.sec.gov//litigation/complaints/200...   \n",
       "1  https://www.sec.gov//litigation/complaints/200...   \n",
       "2  https://www.sec.gov//litigation/complaints/200...   \n",
       "3  https://www.sec.gov//litigation/complaints/200...   \n",
       "4  https://www.sec.gov//litigation/complaints/200...   \n",
       "\n",
       "                                             summary  \\\n",
       "0  CORRECTEDThe Securities and Exchange Commissio...   \n",
       "1  The United States Securities and Exchange Comm...   \n",
       "2  The Securities and Exchange Commission (\"Commi...   \n",
       "3  The Securities and Exchange Commission (\"Commi...   \n",
       "4  The Securities and Exchange Commission today f...   \n",
       "\n",
       "                                      text_extracted  \\\n",
       "0   TRACY L. DAVIS (Cal. Bar No. 184129)  Attorne...   \n",
       "1  ELECTRONIC \\nDEC 29, 2008 \\nSTEVEN M, LARIMORE...   \n",
       "2  2006 SEP 30 AN 8: 24 \\nU.S: COURT MIBDLE GISTR...   \n",
       "3  IN THE UNITED STATES DISTRICT COURT FOR THE MI...   \n",
       "4  08-61524-CIV-DIMITROULEAS/ROSENBAUM \\nUNITED S...   \n",
       "\n",
       "                                   falsified_summary  \\\n",
       "0  CORRECTEDThe Securities and Exchange Commissio...   \n",
       "1  The Canadian Securities and Exchange Commissio...   \n",
       "2  The Securities and Exchange Commission (\"Commi...   \n",
       "3  The Securities and Exchange Commission (\"Commi...   \n",
       "4  The Securities and Exchange Commission today f...   \n",
       "\n",
       "                     falsified_index  good_cos_similarity  bad_cos_similarity  \\\n",
       "0                    [2, 5, 6, 8, 9]                  NaN                 NaN   \n",
       "1  [0, 1, 2, 4, 5, 6, 8, 12, 13, 18]                  NaN                 NaN   \n",
       "2                 [1, 2, 5, 6, 8, 9]                  NaN                 NaN   \n",
       "3                    [0, 1, 4, 7, 8]                  NaN                 NaN   \n",
       "4                 [0, 1, 3, 4, 6, 7]                  NaN                 NaN   \n",
       "\n",
       "   good_llm_score  bad_llm_score good_llm_mismatch bad_llm_mismatch  \n",
       "0             NaN            NaN                                     \n",
       "1             NaN            NaN                                     \n",
       "2             NaN            NaN                                     \n",
       "3             NaN            NaN                                     \n",
       "4             NaN            NaN                                     "
      ]
     },
     "execution_count": 39,
     "metadata": {},
     "output_type": "execute_result"
    }
   ],
   "source": [
    "df_summary = pd.read_csv('../data/falsified_summary.csv', index_col = 0)\n",
    "df_summary['good_cos_similarity'] = df_summary['bad_cos_similarity'] = df_summary['good_llm_score'] = df_summary['bad_llm_score'] = np.nan\n",
    "df_summary['good_llm_mismatch'] = df_summary['bad_llm_mismatch'] = ''\n",
    "df_summary.head()"
   ]
  },
  {
   "cell_type": "markdown",
   "metadata": {},
   "source": [
    "File Overview:\n",
    "\n",
    "- Title: falsified_summary_level.csv\n",
    "- Purpose: The dataset we used for our project\n",
    "- Source: SEC litigation releases\n",
    "- Date of creation: 2023-11-27\n",
    "- Last modified: 2023-11-27\n",
    "\n",
    "Column Description:\n",
    "1. falsified_summary: The summary of the litigation release with factual distortion\n",
    "2. falsified_index: The index of the sentence in the original text that is distorted\n",
    "3. text_extracted: The text extracted from the pdf file\n",
    "   \n",
    "General Formatting Rules:\n",
    "- Delimiter: \",\"\n",
    "- Encoding: UTF-8"
   ]
  },
  {
   "cell_type": "code",
   "execution_count": 38,
   "metadata": {},
   "outputs": [
    {
     "data": {
      "text/html": [
       "<div>\n",
       "<style scoped>\n",
       "    .dataframe tbody tr th:only-of-type {\n",
       "        vertical-align: middle;\n",
       "    }\n",
       "\n",
       "    .dataframe tbody tr th {\n",
       "        vertical-align: top;\n",
       "    }\n",
       "\n",
       "    .dataframe thead th {\n",
       "        text-align: right;\n",
       "    }\n",
       "</style>\n",
       "<table border=\"1\" class=\"dataframe\">\n",
       "  <thead>\n",
       "    <tr style=\"text-align: right;\">\n",
       "      <th></th>\n",
       "      <th>falsified_summary</th>\n",
       "      <th>falsified_index</th>\n",
       "      <th>text_extracted</th>\n",
       "      <th>cos_similarity</th>\n",
       "      <th>llm_score</th>\n",
       "      <th>llm_mismatch</th>\n",
       "    </tr>\n",
       "  </thead>\n",
       "  <tbody>\n",
       "    <tr>\n",
       "      <th>0</th>\n",
       "      <td>The United States Securities and Exchange Comm...</td>\n",
       "      <td>[]</td>\n",
       "      <td>ELECTRONIC \\nDEC 29, 2008 \\nSTEVEN M, LARIMORE...</td>\n",
       "      <td>NaN</td>\n",
       "      <td>NaN</td>\n",
       "      <td></td>\n",
       "    </tr>\n",
       "    <tr>\n",
       "      <th>1</th>\n",
       "      <td>The United Kingdom Financial Conduct Authority...</td>\n",
       "      <td>[0, 1, 2, 3, 4]</td>\n",
       "      <td>ELECTRONIC \\nDEC 29, 2008 \\nSTEVEN M, LARIMORE...</td>\n",
       "      <td>NaN</td>\n",
       "      <td>NaN</td>\n",
       "      <td></td>\n",
       "    </tr>\n",
       "    <tr>\n",
       "      <th>2</th>\n",
       "      <td>The Canadian Securities and Exchange Commissio...</td>\n",
       "      <td>[0, 1, 2, 4, 5, 6, 8, 12, 13, 18]</td>\n",
       "      <td>ELECTRONIC \\nDEC 29, 2008 \\nSTEVEN M, LARIMORE...</td>\n",
       "      <td>NaN</td>\n",
       "      <td>NaN</td>\n",
       "      <td></td>\n",
       "    </tr>\n",
       "    <tr>\n",
       "      <th>3</th>\n",
       "      <td>The United States Securities and Exchange Comm...</td>\n",
       "      <td>[1, 2, 3, 4, 5, 6, 7, 8, 9, 10, 11, 12, 13, 14]</td>\n",
       "      <td>ELECTRONIC \\nDEC 29, 2008 \\nSTEVEN M, LARIMORE...</td>\n",
       "      <td>NaN</td>\n",
       "      <td>NaN</td>\n",
       "      <td></td>\n",
       "    </tr>\n",
       "    <tr>\n",
       "      <th>4</th>\n",
       "      <td>The Canadian Financial Conduct Authority annou...</td>\n",
       "      <td>[0, 1, 2, 3, 4, 5, 6, 7, 8, 9, 10, 11, 12, 13,...</td>\n",
       "      <td>ELECTRONIC \\nDEC 29, 2008 \\nSTEVEN M, LARIMORE...</td>\n",
       "      <td>NaN</td>\n",
       "      <td>NaN</td>\n",
       "      <td></td>\n",
       "    </tr>\n",
       "  </tbody>\n",
       "</table>\n",
       "</div>"
      ],
      "text/plain": [
       "                                   falsified_summary  \\\n",
       "0  The United States Securities and Exchange Comm...   \n",
       "1  The United Kingdom Financial Conduct Authority...   \n",
       "2  The Canadian Securities and Exchange Commissio...   \n",
       "3  The United States Securities and Exchange Comm...   \n",
       "4  The Canadian Financial Conduct Authority annou...   \n",
       "\n",
       "                                     falsified_index  \\\n",
       "0                                                 []   \n",
       "1                                    [0, 1, 2, 3, 4]   \n",
       "2                  [0, 1, 2, 4, 5, 6, 8, 12, 13, 18]   \n",
       "3    [1, 2, 3, 4, 5, 6, 7, 8, 9, 10, 11, 12, 13, 14]   \n",
       "4  [0, 1, 2, 3, 4, 5, 6, 7, 8, 9, 10, 11, 12, 13,...   \n",
       "\n",
       "                                      text_extracted  cos_similarity  \\\n",
       "0  ELECTRONIC \\nDEC 29, 2008 \\nSTEVEN M, LARIMORE...             NaN   \n",
       "1  ELECTRONIC \\nDEC 29, 2008 \\nSTEVEN M, LARIMORE...             NaN   \n",
       "2  ELECTRONIC \\nDEC 29, 2008 \\nSTEVEN M, LARIMORE...             NaN   \n",
       "3  ELECTRONIC \\nDEC 29, 2008 \\nSTEVEN M, LARIMORE...             NaN   \n",
       "4  ELECTRONIC \\nDEC 29, 2008 \\nSTEVEN M, LARIMORE...             NaN   \n",
       "\n",
       "   llm_score llm_mismatch  \n",
       "0        NaN               \n",
       "1        NaN               \n",
       "2        NaN               \n",
       "3        NaN               \n",
       "4        NaN               "
      ]
     },
     "execution_count": 38,
     "metadata": {},
     "output_type": "execute_result"
    }
   ],
   "source": [
    "df_summary_level = pd.read_csv('../data/falsified_summary_level.csv', index_col=0)\n",
    "df_summary_level['cos_similarity'] =  df_summary_level['llm_score'] =  np.nan\n",
    "df_summary_level['llm_mismatch'] = ''\n",
    "df_summary_level.head()"
   ]
  },
  {
   "cell_type": "markdown",
   "id": "d2f8e4008bafb9d6",
   "metadata": {
    "collapsed": false
   },
   "source": [
    "## 1. Results of baseline metrics\n",
    "In our analysis, we employ a variety of established metrics to assess the similarity between two text samples. Our baseline approach incorporates four key metrics, each offering a unique perspective on textual similarity:\n",
    "\n",
    "- **Cosine Similarity**: This metric evaluates the cosine of the angle between two vectors, derived from the text embeddings of the respective documents. A smaller angle signifies greater similarity in the semantic content of the texts.\n",
    "- **Meteor**: Unlike other metrics that focus solely on lexical similarity, METEOR considers both semantic and syntactic elements, making it highly effective for evaluating translations. It balances precision and recall, and incorporates synonyms and stemming for a more nuanced comparison.\n",
    "- **Bleu**: Primarily used in machine translation, BLEU assesses the correspondence of n-grams between the translated and reference texts. It prioritizes precision, evaluating the extent to which n-grams in the translated text appear in the reference text.\n",
    "- **Rouge 2**: This metric focuses on the recall aspect, measuring how many bigrams in the reference summary appear in the generated summary. It's particularly useful for evaluating the extent of content coverage.\n",
    "\n",
    "For each of these metrics, we calculate the score comparing a well-crafted summary with a deliberately falsified summary, both derived from the same source text."
   ]
  },
  {
   "cell_type": "code",
   "execution_count": 3,
   "id": "c58a3d53f7019c97",
   "metadata": {
    "collapsed": false
   },
   "outputs": [
    {
     "name": "stderr",
     "output_type": "stream",
     "text": [
      "C:\\Users\\Alex\\AppData\\Local\\Temp\\ipykernel_13372\\3942733550.py:3: SettingWithCopyWarning: \n",
      "A value is trying to be set on a copy of a slice from a DataFrame.\n",
      "Try using .loc[row_indexer,col_indexer] = value instead\n",
      "\n",
      "See the caveats in the documentation: https://pandas.pydata.org/pandas-docs/stable/user_guide/indexing.html#returning-a-view-versus-a-copy\n",
      "  baseline_results['cos_similarity'] = baseline_results.apply(lambda x: model.cal_cos_similarity(x['summary'],x['falsified_summary']), axis=1)\n",
      "C:\\Users\\Alex\\AppData\\Local\\Temp\\ipykernel_13372\\3942733550.py:4: SettingWithCopyWarning: \n",
      "A value is trying to be set on a copy of a slice from a DataFrame.\n",
      "Try using .loc[row_indexer,col_indexer] = value instead\n",
      "\n",
      "See the caveats in the documentation: https://pandas.pydata.org/pandas-docs/stable/user_guide/indexing.html#returning-a-view-versus-a-copy\n",
      "  baseline_results['meteor'] = baseline_results.apply(lambda x: model.cal_meteor_score(x['summary'],x['falsified_summary']), axis=1)\n",
      "C:\\Users\\Alex\\AppData\\Local\\Temp\\ipykernel_13372\\3942733550.py:5: SettingWithCopyWarning: \n",
      "A value is trying to be set on a copy of a slice from a DataFrame.\n",
      "Try using .loc[row_indexer,col_indexer] = value instead\n",
      "\n",
      "See the caveats in the documentation: https://pandas.pydata.org/pandas-docs/stable/user_guide/indexing.html#returning-a-view-versus-a-copy\n",
      "  baseline_results['bleu'] = baseline_results.apply(lambda x: model.cal_bleu_score(x['summary'],x['falsified_summary']), axis=1)\n",
      "C:\\Users\\Alex\\AppData\\Local\\Temp\\ipykernel_13372\\3942733550.py:6: SettingWithCopyWarning: \n",
      "A value is trying to be set on a copy of a slice from a DataFrame.\n",
      "Try using .loc[row_indexer,col_indexer] = value instead\n",
      "\n",
      "See the caveats in the documentation: https://pandas.pydata.org/pandas-docs/stable/user_guide/indexing.html#returning-a-view-versus-a-copy\n",
      "  baseline_results['rouge2'] = baseline_results.apply(lambda x: model.cal_rouge2_score(x['summary'],x['falsified_summary']), axis=1)\n"
     ]
    },
    {
     "data": {
      "text/html": [
       "<div>\n",
       "<style scoped>\n",
       "    .dataframe tbody tr th:only-of-type {\n",
       "        vertical-align: middle;\n",
       "    }\n",
       "\n",
       "    .dataframe tbody tr th {\n",
       "        vertical-align: top;\n",
       "    }\n",
       "\n",
       "    .dataframe thead th {\n",
       "        text-align: right;\n",
       "    }\n",
       "</style>\n",
       "<table border=\"1\" class=\"dataframe\">\n",
       "  <thead>\n",
       "    <tr style=\"text-align: right;\">\n",
       "      <th></th>\n",
       "      <th>summary</th>\n",
       "      <th>falsified_summary</th>\n",
       "      <th>cos_similarity</th>\n",
       "      <th>meteor</th>\n",
       "      <th>bleu</th>\n",
       "      <th>rouge2</th>\n",
       "    </tr>\n",
       "  </thead>\n",
       "  <tbody>\n",
       "    <tr>\n",
       "      <th>0</th>\n",
       "      <td>CORRECTEDThe Securities and Exchange Commissio...</td>\n",
       "      <td>CORRECTEDThe Securities and Exchange Commissio...</td>\n",
       "      <td>0.997728</td>\n",
       "      <td>0.958831</td>\n",
       "      <td>0.949553</td>\n",
       "      <td>0.925121</td>\n",
       "    </tr>\n",
       "    <tr>\n",
       "      <th>1</th>\n",
       "      <td>The United States Securities and Exchange Comm...</td>\n",
       "      <td>The Canadian Securities and Exchange Commissio...</td>\n",
       "      <td>0.963819</td>\n",
       "      <td>0.972300</td>\n",
       "      <td>0.963332</td>\n",
       "      <td>0.946882</td>\n",
       "    </tr>\n",
       "    <tr>\n",
       "      <th>2</th>\n",
       "      <td>The Securities and Exchange Commission (\"Commi...</td>\n",
       "      <td>The Securities and Exchange Commission (\"Commi...</td>\n",
       "      <td>0.989780</td>\n",
       "      <td>0.973521</td>\n",
       "      <td>0.965338</td>\n",
       "      <td>0.949947</td>\n",
       "    </tr>\n",
       "    <tr>\n",
       "      <th>3</th>\n",
       "      <td>The Securities and Exchange Commission (\"Commi...</td>\n",
       "      <td>The Securities and Exchange Commission (\"Commi...</td>\n",
       "      <td>0.999462</td>\n",
       "      <td>0.820663</td>\n",
       "      <td>0.855938</td>\n",
       "      <td>0.802348</td>\n",
       "    </tr>\n",
       "    <tr>\n",
       "      <th>4</th>\n",
       "      <td>The Securities and Exchange Commission today f...</td>\n",
       "      <td>The Securities and Exchange Commission today f...</td>\n",
       "      <td>0.995189</td>\n",
       "      <td>0.951790</td>\n",
       "      <td>0.940407</td>\n",
       "      <td>0.906122</td>\n",
       "    </tr>\n",
       "  </tbody>\n",
       "</table>\n",
       "</div>"
      ],
      "text/plain": [
       "                                             summary  \\\n",
       "0  CORRECTEDThe Securities and Exchange Commissio...   \n",
       "1  The United States Securities and Exchange Comm...   \n",
       "2  The Securities and Exchange Commission (\"Commi...   \n",
       "3  The Securities and Exchange Commission (\"Commi...   \n",
       "4  The Securities and Exchange Commission today f...   \n",
       "\n",
       "                                   falsified_summary  cos_similarity  \\\n",
       "0  CORRECTEDThe Securities and Exchange Commissio...        0.997728   \n",
       "1  The Canadian Securities and Exchange Commissio...        0.963819   \n",
       "2  The Securities and Exchange Commission (\"Commi...        0.989780   \n",
       "3  The Securities and Exchange Commission (\"Commi...        0.999462   \n",
       "4  The Securities and Exchange Commission today f...        0.995189   \n",
       "\n",
       "     meteor      bleu    rouge2  \n",
       "0  0.958831  0.949553  0.925121  \n",
       "1  0.972300  0.963332  0.946882  \n",
       "2  0.973521  0.965338  0.949947  \n",
       "3  0.820663  0.855938  0.802348  \n",
       "4  0.951790  0.940407  0.906122  "
      ]
     },
     "execution_count": 3,
     "metadata": {},
     "output_type": "execute_result"
    }
   ],
   "source": [
    "model = Baseline()\n",
    "baseline_results = df_summary[['summary', 'falsified_summary']]\n",
    "baseline_results['cos_similarity'] = baseline_results.apply(lambda x: model.cal_cos_similarity(x['summary'],x['falsified_summary']), axis=1)\n",
    "baseline_results['meteor'] = baseline_results.apply(lambda x: model.cal_meteor_score(x['summary'],x['falsified_summary']), axis=1)\n",
    "baseline_results['bleu'] = baseline_results.apply(lambda x: model.cal_bleu_score(x['summary'],x['falsified_summary']), axis=1)\n",
    "baseline_results['rouge2'] = baseline_results.apply(lambda x: model.cal_rouge2_score(x['summary'],x['falsified_summary']), axis=1)\n",
    "baseline_results.head()"
   ]
  },
  {
   "cell_type": "markdown",
   "metadata": {},
   "source": [
    "**Result:** The analysis yielded notably high scores for all metrics, each exceeding 0.8. This outcome indicates a significant limitation of the baseline metrics: they predominantly failed to detect subtle factual inaccuracies embedded within the summaries."
   ]
  },
  {
   "cell_type": "markdown",
   "id": "8ecc914f5a125af6",
   "metadata": {
    "collapsed": false
   },
   "source": [
    "## 2. Results of our methods\n",
    "We designed two methods to evaluate the quality of summaries.\n",
    "1. Named entity comparison\n",
    "2. Summary grading based on sentence-level checking"
   ]
  },
  {
   "cell_type": "markdown",
   "id": "b02f944b16991fcf",
   "metadata": {
    "collapsed": false
   },
   "source": [
    "### 2.1 Named entity comparison\n",
    "We provide an `NER_comparison` class with the following methods:\n",
    "1. `.extract()`: This method can extract the name entities which are related to the financial topic and return them in a `set`.\n",
    "2. `.process()`: This method can return two ratios, one is the ratio of named entities in the summary that are also in the original text, the other is the ratio of named entities in the original text that are also in the summary. The higher of the two ratios are, the higher the quality of the summary in response to the document is.\n",
    "3. `.comparison_display()`: This method can highlight the named entities in context. It is designed for visualizing the result of name entity comparison.\n",
    "4. `.comparison_summary()`: This method will return the ratio of named entities in the summary that are also in the original text, and the set of name entities in the summary but not in the original text.\n",
    "5. `.comparison_original()`: This This method will return the ratio of named entities in the original text that are also in the summary, and the set of name entities in the original text but not in the summary."
   ]
  },
  {
   "cell_type": "code",
   "execution_count": 4,
   "id": "53617e3c0c69c084",
   "metadata": {
    "collapsed": false
   },
   "outputs": [
    {
     "name": "stdout",
     "output_type": "stream",
     "text": [
      "About 46.88 % of the name entities in the summary also appear in the original text.\n",
      "About 12.4 % of the name entities in the original text also appear in the summary.\n"
     ]
    }
   ],
   "source": [
    "NER_sample = NER_comparison()\n",
    "\n",
    "# sample a document and its summary\n",
    "sample_original_text = df_summary.iloc[0,2]\n",
    "sample_summary = df_summary.iloc[0,1]\n",
    "\n",
    "# calculate the two ratios\n",
    "ratio_summary, ratio_original = NER_sample.process(sample_original_text, sample_summary)\n",
    "print(f\"About {round(100*ratio_summary, 2)} % of the name entities in the summary also appear in the original text.\")\n",
    "print(f\"About {round(100*ratio_original, 2)} % of the name entities in the original text also appear in the summary.\")"
   ]
  },
  {
   "cell_type": "markdown",
   "metadata": {},
   "source": [
    "Highlight the name entities in the summary but not in the original text"
   ]
  },
  {
   "cell_type": "code",
   "execution_count": 5,
   "metadata": {},
   "outputs": [
    {
     "name": "stdout",
     "output_type": "stream",
     "text": [
      "CORRECTEDThe **Securities and Exchange Commission** **today** charged the former President and CEO of Santa Clara, **Calif.** technology company Genesis Microchip, Inc. with insider trading. The Commission alleges that **Elias Antoun**, who resides in San Jose, bought Genesis stock in the brokerage accounts of a relative and a friend while in the midst of confidential merger negotiations with STMicroelectronics, one of the world's largest semiconductor companies.The **SEC** also charged Antoun's childhood friend, **Samir Abed** of Thousand Oaks, who purchased Genesis stock and options after learning of the merger negotiations from Antoun. Both Antoun and Abed, who netted profits of approximately $33,975 and $**51,206**, respectively, when the merger was announced, agreed to settle the **SEC**'s charges without admitting or denying the Commission's allegations.The Commission's complaint, filed in federal district court in San Jose, alleges that Genesis, a supplier of image processors for flat-panel TVs and monitors, engaged in confidential discussions in **the fall of 2007** with Geneva, Switzerland-based STMicroelectronics. Shortly after receiving a letter of intent under which STM would acquire Genesis at a significant premium above Genesis' current stock price, Antoun began purchasing shares of Genesis stock in the brokerage accounts of a relative and a friend. The Commission also alleges that Antoun discussed the pending merger in confidence with his friend Abed; unbeknownst to Antoun, Abed used the information to purchase shares of Genesis stock and call options. After news of the merger was announced on December 11, 2007, Genesis's stock price skyrocketed 57 percent. Shortly thereafter, Antoun sold the Genesis stock in his relative's and friend's accounts, and Abed sold his Genesis stock and options, for **thousands of dollars** in illicit profits.Antoun and Abed are both charged with violating Section 10(b) of the Securities Exchange Act of **1934** and Rule 10b-5 thereunder. Both Antoun and Abed have agreed to be enjoined from future violations of the securities laws. Antoun has agreed to pay $**37**, 299.42 in disgorgement and prejudgment interest (which includes profits from a previous trade prior to a Genesis earnings announcement) and a financial penalty of $**36,210**. Abed has agreed to pay $**53,362.62** in disgorgement and prejudgment interest and a penalty of $**25,603**. The Commission took into consideration Abed's cooperation during the staff's investigation in accepting his settlement.The **SEC** acknowledges the assistance of **the Financial Industry Regulatory Authority** (**FINRA**) in this matter.****SEC** Complaint** in this matter    \n"
     ]
    }
   ],
   "source": [
    "# Extract set of entities in the original text\n",
    "sample_original_ents = NER_sample.extraction(sample_original_text)\n",
    "# Extract set of entities in the summary\n",
    "sample_summary_ents = NER_sample.extraction(sample_summary)\n",
    "# get the set of entities in the summary but not in the original text\n",
    "_, ents_set = NER_sample.comparison_summary(sample_original_ents, sample_summary_ents)\n",
    "\n",
    "# highlight the entities in the summary but not in the original text\n",
    "highlitghted_summary = NER_sample.comparison_display(sample_summary, ents_set)\n",
    "print(highlitghted_summary)"
   ]
  },
  {
   "cell_type": "markdown",
   "id": "1212c6b23c5dc564",
   "metadata": {
    "collapsed": false
   },
   "source": [
    "### 2.2 Summary grading based on sentence-level checking\n",
    "We apply LLMs to help us check the consistency between the summary and the original text sentence by sentence through `SummaryGrader` class The detail of its structure can be seen in our poster. \n",
    "1. Its `.evaluate()` method can return the ratio of sentences in the summary that are thought to be consistent with the original text and the list of indices of sentences in the summary that are thought to be inconsistent with the original text. \n",
    "2. In addition, we can use `highlight_sent()` function to highlight the sentences in the summary that are thought to be inconsistent with the original text. This will help users to find the details of the result."
   ]
  },
  {
   "cell_type": "code",
   "execution_count": null,
   "id": "681aa4d30f46033e",
   "metadata": {
    "collapsed": false
   },
   "outputs": [],
   "source": [
    "sg = SummaryGrader()\n",
    "# Get the LLM Score and the list of indices of sentences in the summary that are thought to be inconsistent with the original text\n",
    "sample_llm_score, sample_mismatch = sg.evaluate(sample_original_text, sample_summary, 10)\n",
    "# Highlight the sentences in the summary that are thought to be inconsistent with the original text\n",
    "highlight_sent(sample_summary, sample_mismatch)"
   ]
  },
  {
   "cell_type": "markdown",
   "id": "e9dd3307ac90eb86",
   "metadata": {
    "collapsed": false
   },
   "source": [
    "## 3. Comparison of our methods with baseline metrics\n",
    "In this section, we will compare our methods with the baseline metrics we used in the first section from the three properties we mentioned at the beginning. We will use the same dataset and the same summaries as in the first section. The results are as follows:"
   ]
  },
  {
   "cell_type": "markdown",
   "metadata": {},
   "source": [
    "### 3.1 Our method performs better in telling a good summary from a bad one."
   ]
  },
  {
   "cell_type": "code",
   "execution_count": null,
   "metadata": {},
   "outputs": [],
   "source": [
    "# Generate LLM score and cosine similarity\n",
    "for index, row in df_summary.iterrows():\n",
    "    text = row['text_extracted']\n",
    "    summary = row['summary']\n",
    "    falsi_summary = row['falsified_summary']\n",
    "    # Generate the cosine similarity for good(standard) and bad(falsified) summary with original text\n",
    "    row['good_cos_similarity'], row['bad_cos_similarity'] = cos_similariy(text, summary, falsi_summary)\n",
    "    # Generate the LLM score and the list of indices of sentences in the good summary that are thought to be inconsistent with the original text\n",
    "    row['good_llm_score'], good_mismatch = sg.evaluate(text, summary, 10)\n",
    "    # Store the list of indices of sentences as a string\n",
    "    row['good_llm_mismatch'] = ','.join(str(e) for e in good_mismatch)\n",
    "    # Generate the LLM score and the list of indices of sentences in the bad summary that are thought to be inconsistent with the original text\n",
    "    row['bad_llm_score'], bad_mismatch = sg.evaluate(text, falsi_summary, 10)\n",
    "    # Store the list of indices of sentences as a string\n",
    "    row['bad_llm_mismatch'] = ','.join(str(e) for e in bad_mismatch)\n",
    "    df_summary.iloc[index,:] = row"
   ]
  },
  {
   "cell_type": "markdown",
   "metadata": {},
   "source": [
    "1. `Cosine Similarity Percentage`: The ratio of the difference between Cosine Similarity of good summary and Cosine Similarity of bad summary and Cosine Similarity of good summary.\n",
    "2. `LLM Score Percentage`: The ratio of the difference between LLM Score of good summary and LLM Score of bad summary and LLM Score of good summary. \\\n",
    "\\\n",
    "Using those two percentages can show the gap between good summary and bad summary"
   ]
  },
  {
   "cell_type": "code",
   "execution_count": null,
   "metadata": {},
   "outputs": [],
   "source": [
    "df_summary['cos_similarity_percentage'] = (df_summary['good_cos_similarity'] - df_summary['bad_cos_similarity'])/df_summary['good_cos_similarity']\n",
    "df_summary['llm_score_percentage'] = (df_summary['good_llm_score'] - df_summary['bad_llm_score'])/df_summary['good_llm_score']\n",
    "df_summary.to_csv('10summary_with_result.csv')"
   ]
  },
  {
   "cell_type": "markdown",
   "metadata": {},
   "source": [
    "### Generate the boxplot for cosine similarity and LLM score"
   ]
  },
  {
   "cell_type": "code",
   "execution_count": 6,
   "metadata": {},
   "outputs": [
    {
     "data": {
      "image/png": "[encoded data removed]",
      "text/plain": [
       "<Figure size 640x480 with 1 Axes>"
      ]
     },
     "metadata": {},
     "output_type": "display_data"
    }
   ],
   "source": [
    "df_summary = pd.read_csv('10summary_with_result.csv', index_col=0)\n",
    "df_summary = df_summary.rename(columns = {'cos_similarity_percentage': 'Cosine Similarity', 'llm_score_percentage': 'LLM Score'})\n",
    "df_summary_plot = pd.melt(df_summary.reset_index(), id_vars='index', value_vars=['Cosine Similarity', 'LLM Score'])\n",
    "df_summary_plot = df_summary_plot.rename(columns = {'variable': 'Score Types'})\n",
    "sns.boxplot(\n",
    "    x = 'Score Types', \n",
    "    y=\"value\", \n",
    "    hue='Score Types', \n",
    "    data=df_summary_plot).set(\n",
    "    xlabel='Score Types', \n",
    "    ylabel='Values'\n",
    ")\n",
    "plt.savefig('good_to_bad.svg', format=\"svg\", dpi=300)"
   ]
  },
  {
   "cell_type": "markdown",
   "metadata": {},
   "source": [
    "### 3.2 Our method performs better in discerning varying degrees of factual distortion."
   ]
  },
  {
   "cell_type": "code",
   "execution_count": null,
   "metadata": {},
   "outputs": [],
   "source": [
    "for index, row in df_summary_level.iterrows():\n",
    "    text = row['text_extracted']\n",
    "    falsi_summary = row['falsified_summary']\n",
    "    # Generate the cosine similarity for summary with original text\n",
    "    row['cos_similarity'] = cos_similariy(text, falsi_summary, falsi_summary)[0]\n",
    "    # Generate the LLM score and the list of indices of sentences in the good summary that are thought to be inconsistent with the original text\n",
    "    row['llm_score'], mismatch = sg.evaluate(text, falsi_summary, 10)\n",
    "    # Store the list of indices of sentences as a string\n",
    "    row['llm_mismatch'] = ','.join(str(e) for e in mismatch)\n",
    "\n",
    "    df_summary_level.iloc[index,:] = row"
   ]
  },
  {
   "cell_type": "markdown",
   "metadata": {},
   "source": [
    "1. `Falsifed Level`: is defined as the number of sentences with replaced falsified name entities and relationships over the total number of sentences in summary.\n",
    "2. `Cosine Similarity Percentage`: the ratio of difference between Cosine Similarity of the summary and Cosine Similarity of the previous one and Cosine Similarity of the summary.\n",
    "3. `LLM Score Percentage`: the ratio of difference between LLM Score of the summary and LLM Score of the previous one(lower falsified level) and LLM Score of the summary."
   ]
  },
  {
   "cell_type": "code",
   "execution_count": null,
   "metadata": {},
   "outputs": [],
   "source": [
    "# Label the summary with different falsified level\n",
    "df_summary_level['false_rate'] = np.array([0, 0.25, 0.5, 0.75, 1])\n",
    "# Generate the Cosine Similarity Percentage summary with different falsifed level\n",
    "df_summary_level['cos_similarity_percentage'] = (df_summary_level['cos_similarity'].shift(1) - df_summary_level['cos_similarity'])/df_summary_level['cos_similarity'].shift(1)\n",
    "df_summary_level['llm_percentage'] = (df_summary_level['llm_score'].shift(1) - df_summary_level['llm_score'])/df_summary_level['llm_score'].shift(1)\n",
    "df_summary_level = df_summary_level.fillna(0)\n",
    "df_summary_level.to_csv('summary_level_with_result.csv')"
   ]
  },
  {
   "cell_type": "markdown",
   "metadata": {},
   "source": [
    "### Generate the Lineplot for cosine similarity and LLM score"
   ]
  },
  {
   "cell_type": "code",
   "execution_count": 19,
   "metadata": {},
   "outputs": [
    {
     "data": {
      "image/png": "[encoded data removed]",
      "text/plain": [
       "<Figure size 640x480 with 1 Axes>"
      ]
     },
     "metadata": {},
     "output_type": "display_data"
    }
   ],
   "source": [
    "df_summary_level = pd.read_csv('summary_level_with_result.csv', index_col = 0)\n",
    "df_summary_level = df_summary_level.rename(columns = {\n",
    "            'cos_similarity_percentage': 'Cosine Similarity', \n",
    "            'llm_percentage': 'LLM Score',\n",
    "            'false_rate': 'False Rate'})\n",
    "df_summary_level_plot = pd.melt(df_summary_level.reset_index(), id_vars='False Rate', value_vars=['Cosine Similarity', 'LLM Score'])\n",
    "df_summary_level_plot = df_summary_level_plot.rename(columns = {'variable': 'Score Types'})\n",
    "df_summary_level_plot\n",
    "sns.lineplot(\n",
    "    data=df_summary_level_plot,\n",
    "    x = 'False Rate', \n",
    "    y=\"value\", \n",
    "    hue='Score Types', \n",
    "    markers=True,\n",
    "    style='Score Types').set(\n",
    "    xlabel='False Rate', \n",
    "    ylabel='Values'\n",
    ")\n",
    "plt.savefig('10levels.svg', format=\"svg\", dpi=300)"
   ]
  },
  {
   "cell_type": "markdown",
   "metadata": {},
   "source": [
    "### 3.3 Our method is able to make evaluation based on the detail of the summary.\n",
    "As we described in section 2, both of our method calculate the score of the summary based on the details of it. One is from the name entity level, the other is from the sentence level. However, **the baseline method could only just return a number, which is too abstract for users to understand.** \n",
    "\n",
    "Here, we apply `highlight_sent()` function to highlight the sentences in the sampled summary that might be inconsistent with the sampled original text."
   ]
  },
  {
   "cell_type": "code",
   "execution_count": 33,
   "metadata": {},
   "outputs": [
    {
     "data": {
      "text/html": [
       "<div><span style='background-color: green;'>CORRECTEDThe Securities and Exchange Commission today charged the former President and CEO of Santa Clara, Calif. technology company Genesis Microchip, Inc. with insider trading.</span></div><div>The Commission alleges that Elias Antoun, who resides in San Jose, bought Genesis stock in the brokerage accounts of a relative and a friend while in the midst of confidential merger negotiations with STMicroelectronics, one of the world's largest semiconductor companies.The SEC also charged Antoun's childhood friend, Samir Abed of Thousand Oaks, who purchased Genesis stock and options after learning of the merger negotiations from Antoun.</div><div><span style='background-color: green;'>Both Antoun and Abed, who netted profits of approximately $33,975 and $51,206, respectively, when the merger was announced, agreed to settle the SEC's charges without admitting or denying the Commission's allegations.The Commission's complaint, filed in federal district court in San Jose, alleges that Genesis, a supplier of image processors for flat-panel TVs and monitors, engaged in confidential discussions in the fall of 2007 with Geneva, Switzerland-based STMicroelectronics.</span></div><div>Shortly after receiving a letter of intent under which STM would acquire Genesis at a significant premium above Genesis' current stock price, Antoun began purchasing shares of Genesis stock in the brokerage accounts of a relative and a friend.</div><div>The Commission also alleges that Antoun discussed the pending merger in confidence with his friend Abed; unbeknownst to Antoun, Abed used the information to purchase shares of Genesis stock and call options.</div><div><span style='background-color: green;'>After news of the merger was announced on December 11, 2007, Genesis's stock price skyrocketed 57 percent.</span></div><div>Shortly thereafter, Antoun sold the Genesis stock in his relative's and friend's accounts, and Abed sold his Genesis stock and options, for thousands of dollars in illicit profits.Antoun and Abed are both charged with violating Section 10(b) of the Securities Exchange Act of 1934 and Rule 10b-5 thereunder.</div><div>Both Antoun and Abed have agreed to be enjoined from future violations of the securities laws.</div><div><span style='background-color: green;'>Antoun has agreed to pay $37, 299.42 in disgorgement and prejudgment interest (which includes profits from a previous trade prior to a Genesis earnings announcement) and a financial penalty of $36,210.</span></div><div><span style='background-color: green;'>Abed has agreed to pay $53,362.62 in disgorgement and prejudgment interest and a penalty of $25,603.</span></div><div><span style='background-color: green;'>The Commission took into consideration Abed's cooperation during the staff's investigation in accepting his settlement.The SEC acknowledges the assistance of the Financial Industry Regulatory Authority (FINRA) in this matter.SEC Complaint in this matter</span></div>"
      ],
      "text/plain": [
       "<IPython.core.display.HTML object>"
      ]
     },
     "metadata": {},
     "output_type": "display_data"
    }
   ],
   "source": [
    "sample_summary = df_summary.iloc[0,0]\n",
    "sample_mismatch_by_llm = [int(e) for e in df_summary.iloc[0,9].split(',')]\n",
    "# highlight the sentences in the summary that might be inconsistent with the original text. \n",
    "highlight_sent(sg._split_text(sample_summary), sample_mismatch_by_llm, 'green')"
   ]
  },
  {
   "cell_type": "markdown",
   "id": "f382f0a87f894221",
   "metadata": {
    "collapsed": false
   },
   "source": [
    "## 4. Conclusion\n",
    "In Section 3.1, the plot reveals that when analyzing different PDF files with 50% to 60% summary falsification, particularly where named entities and numbers in the summaries are altered, cosine similarity fails to effectively distinguish between original and falsified summaries. In contrast, our methods demonstrate a clear capacity to discern these differences.\n",
    "\n",
    "Similarly, Section 3.2's plot underscores this point for the same PDF file subjected to varying levels of summary falsification. Here again, cosine similarity proves inadequate in differentiating between the original and falsified summaries, whereas our methods exhibit a distinct advantage in highlighting these discrepancies.\n",
    "\n",
    "In Section 3.3, the highlight function could help user to better understand the result of our metric.\n",
    "\n",
    "Overall, our methods consistently outperform baseline metrics across the three key properties initially outlined. This superior performance strongly suggests that our methods are more effective than the traditional baseline metrics in detecting summary falsification in PDF files."
   ]
  }
 ],
 "metadata": {
  "kernelspec": {
   "display_name": "Python 3",
   "language": "python",
   "name": "python3"
  },
  "language_info": {
   "codemirror_mode": {
    "name": "ipython",
    "version": 3
   },
   "file_extension": ".py",
   "mimetype": "text/x-python",
   "name": "python",
   "nbconvert_exporter": "python",
   "pygments_lexer": "ipython3",
   "version": "3.10.13"
  }
 },
 "nbformat": 4,
 "nbformat_minor": 5
}
