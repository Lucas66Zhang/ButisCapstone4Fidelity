{
 "cells": [
  {
   "cell_type": "code",
   "execution_count": 1,
   "metadata": {},
   "outputs": [],
   "source": [
    "import torch\n",
    "import transformers\n",
    "from transformers import AutoTokenizer\n",
    "from  langchain import LLMChain, HuggingFacePipeline, PromptTemplate\n",
    "import pandas as pd\n",
    "import guidance"
   ]
  },
  {
   "cell_type": "code",
   "execution_count": 2,
   "metadata": {},
   "outputs": [
    {
     "data": {
      "text/html": [
       "<div>\n",
       "<style scoped>\n",
       "    .dataframe tbody tr th:only-of-type {\n",
       "        vertical-align: middle;\n",
       "    }\n",
       "\n",
       "    .dataframe tbody tr th {\n",
       "        vertical-align: top;\n",
       "    }\n",
       "\n",
       "    .dataframe thead th {\n",
       "        text-align: right;\n",
       "    }\n",
       "</style>\n",
       "<table border=\"1\" class=\"dataframe\">\n",
       "  <thead>\n",
       "    <tr style=\"text-align: right;\">\n",
       "      <th></th>\n",
       "      <th>Unnamed: 0</th>\n",
       "      <th>pdf_link</th>\n",
       "      <th>summary</th>\n",
       "      <th>text_extracted</th>\n",
       "      <th>text_extracted_len</th>\n",
       "      <th>summary_len</th>\n",
       "      <th>summary_sentences_len</th>\n",
       "      <th>text_extracted_sentences_len</th>\n",
       "    </tr>\n",
       "  </thead>\n",
       "  <tbody>\n",
       "    <tr>\n",
       "      <th>0</th>\n",
       "      <td>0</td>\n",
       "      <td>https://www.sec.gov//litigation/complaints/200...</td>\n",
       "      <td>CORRECTEDThe Securities and Exchange Commissio...</td>\n",
       "      <td>1 | MARC J. FAGEL (Cal. Bar No. 154425) CARY S...</td>\n",
       "      <td>2125</td>\n",
       "      <td>392</td>\n",
       "      <td>20</td>\n",
       "      <td>201.0</td>\n",
       "    </tr>\n",
       "    <tr>\n",
       "      <th>1</th>\n",
       "      <td>1</td>\n",
       "      <td>https://www.sec.gov//litigation/complaints/200...</td>\n",
       "      <td>The United States Securities and Exchange Comm...</td>\n",
       "      <td>1 of 10 \\nCase 9:08-cv-81565-DTKH Document 1 E...</td>\n",
       "      <td>3169</td>\n",
       "      <td>621</td>\n",
       "      <td>37</td>\n",
       "      <td>218.0</td>\n",
       "    </tr>\n",
       "    <tr>\n",
       "      <th>2</th>\n",
       "      <td>2</td>\n",
       "      <td>https://www.sec.gov//litigation/complaints/200...</td>\n",
       "      <td>The Securities and Exchange Commission (\"Commi...</td>\n",
       "      <td>IN THE UNITED STATES DISTRICT COURT FOR THE TE...</td>\n",
       "      <td>2433</td>\n",
       "      <td>459</td>\n",
       "      <td>19</td>\n",
       "      <td>193.0</td>\n",
       "    </tr>\n",
       "    <tr>\n",
       "      <th>3</th>\n",
       "      <td>3</td>\n",
       "      <td>https://www.sec.gov//litigation/complaints/200...</td>\n",
       "      <td>The Securities and Exchange Commission (\"Commi...</td>\n",
       "      <td>IN THE UNITED STATES DISTRICT COURT FOR THE MI...</td>\n",
       "      <td>7015</td>\n",
       "      <td>494</td>\n",
       "      <td>22</td>\n",
       "      <td>491.0</td>\n",
       "    </tr>\n",
       "    <tr>\n",
       "      <th>4</th>\n",
       "      <td>4</td>\n",
       "      <td>https://www.sec.gov//litigation/complaints/200...</td>\n",
       "      <td>The Securities and Exchange Commission today f...</td>\n",
       "      <td>10f6 \\n08-61524-CIV-DIMITROULEAS/ROSENBAUM \\nU...</td>\n",
       "      <td>1270</td>\n",
       "      <td>356</td>\n",
       "      <td>16</td>\n",
       "      <td>107.0</td>\n",
       "    </tr>\n",
       "  </tbody>\n",
       "</table>\n",
       "</div>"
      ],
      "text/plain": [
       "   Unnamed: 0                                           pdf_link  \\\n",
       "0           0  https://www.sec.gov//litigation/complaints/200...   \n",
       "1           1  https://www.sec.gov//litigation/complaints/200...   \n",
       "2           2  https://www.sec.gov//litigation/complaints/200...   \n",
       "3           3  https://www.sec.gov//litigation/complaints/200...   \n",
       "4           4  https://www.sec.gov//litigation/complaints/200...   \n",
       "\n",
       "                                             summary  \\\n",
       "0  CORRECTEDThe Securities and Exchange Commissio...   \n",
       "1  The United States Securities and Exchange Comm...   \n",
       "2  The Securities and Exchange Commission (\"Commi...   \n",
       "3  The Securities and Exchange Commission (\"Commi...   \n",
       "4  The Securities and Exchange Commission today f...   \n",
       "\n",
       "                                      text_extracted  text_extracted_len  \\\n",
       "0  1 | MARC J. FAGEL (Cal. Bar No. 154425) CARY S...                2125   \n",
       "1  1 of 10 \\nCase 9:08-cv-81565-DTKH Document 1 E...                3169   \n",
       "2  IN THE UNITED STATES DISTRICT COURT FOR THE TE...                2433   \n",
       "3  IN THE UNITED STATES DISTRICT COURT FOR THE MI...                7015   \n",
       "4  10f6 \\n08-61524-CIV-DIMITROULEAS/ROSENBAUM \\nU...                1270   \n",
       "\n",
       "   summary_len  summary_sentences_len  text_extracted_sentences_len  \n",
       "0          392                     20                         201.0  \n",
       "1          621                     37                         218.0  \n",
       "2          459                     19                         193.0  \n",
       "3          494                     22                         491.0  \n",
       "4          356                     16                         107.0  "
      ]
     },
     "execution_count": 2,
     "metadata": {},
     "output_type": "execute_result"
    }
   ],
   "source": [
    "df = pd.read_csv('../data/filtered_data.csv')\n",
    "df.head()"
   ]
  },
  {
   "cell_type": "code",
   "execution_count": 3,
   "metadata": {},
   "outputs": [
    {
     "data": {
      "text/html": [
       "<div>\n",
       "<style scoped>\n",
       "    .dataframe tbody tr th:only-of-type {\n",
       "        vertical-align: middle;\n",
       "    }\n",
       "\n",
       "    .dataframe tbody tr th {\n",
       "        vertical-align: top;\n",
       "    }\n",
       "\n",
       "    .dataframe thead th {\n",
       "        text-align: right;\n",
       "    }\n",
       "</style>\n",
       "<table border=\"1\" class=\"dataframe\">\n",
       "  <thead>\n",
       "    <tr style=\"text-align: right;\">\n",
       "      <th></th>\n",
       "      <th>Unnamed: 0</th>\n",
       "      <th>summary</th>\n",
       "      <th>text</th>\n",
       "    </tr>\n",
       "  </thead>\n",
       "  <tbody>\n",
       "    <tr>\n",
       "      <th>0</th>\n",
       "      <td>0</td>\n",
       "      <td>CORRECTEDThe Securities and Exchange Commissio...</td>\n",
       "      <td>-4. COMPLAINT SEC V. ABED ET AL. \\n22. On July...</td>\n",
       "    </tr>\n",
       "    <tr>\n",
       "      <th>1</th>\n",
       "      <td>1</td>\n",
       "      <td>technology company Genesis Microchip, Inc. wit...</td>\n",
       "      <td>STM’s securities are registered with the Commi...</td>\n",
       "    </tr>\n",
       "    <tr>\n",
       "      <th>2</th>\n",
       "      <td>2</td>\n",
       "      <td>The Commission alleges that Elias Antoun, who ...</td>\n",
       "      <td>This case involves unlawful insider trading in...</td>\n",
       "    </tr>\n",
       "    <tr>\n",
       "      <th>3</th>\n",
       "      <td>3</td>\n",
       "      <td>The SEC also charged Antoun's childhood friend...</td>\n",
       "      <td>Defendants Antoun and Abed, directly or | indi...</td>\n",
       "    </tr>\n",
       "    <tr>\n",
       "      <th>4</th>\n",
       "      <td>4</td>\n",
       "      <td>Both Antoun and Abed, who netted profits of ap...</td>\n",
       "      <td>The letter proposed \\n| that STM would acquire...</td>\n",
       "    </tr>\n",
       "  </tbody>\n",
       "</table>\n",
       "</div>"
      ],
      "text/plain": [
       "   Unnamed: 0                                            summary  \\\n",
       "0           0  CORRECTEDThe Securities and Exchange Commissio...   \n",
       "1           1  technology company Genesis Microchip, Inc. wit...   \n",
       "2           2  The Commission alleges that Elias Antoun, who ...   \n",
       "3           3  The SEC also charged Antoun's childhood friend...   \n",
       "4           4  Both Antoun and Abed, who netted profits of ap...   \n",
       "\n",
       "                                                text  \n",
       "0  -4. COMPLAINT SEC V. ABED ET AL. \\n22. On July...  \n",
       "1  STM’s securities are registered with the Commi...  \n",
       "2  This case involves unlawful insider trading in...  \n",
       "3  Defendants Antoun and Abed, directly or | indi...  \n",
       "4  The letter proposed \\n| that STM would acquire...  "
      ]
     },
     "execution_count": 3,
     "metadata": {},
     "output_type": "execute_result"
    }
   ],
   "source": [
    "df1 = pd.read_csv('../data/sample_input_for_checker1.csv')\n",
    "df1.head()"
   ]
  },
  {
   "cell_type": "code",
   "execution_count": 4,
   "metadata": {},
   "outputs": [],
   "source": [
    "model = \"meta-llama/Llama-2-7b-chat-hf\"\n",
    "tokenizer = AutoTokenizer.from_pretrained(model)"
   ]
  },
  {
   "cell_type": "code",
   "execution_count": 5,
   "metadata": {},
   "outputs": [
    {
     "data": {
      "application/vnd.jupyter.widget-view+json": {
       "model_id": "6429f7b4d1cb47c9885efe2133714dbb",
       "version_major": 2,
       "version_minor": 0
      },
      "text/plain": [
       "Loading checkpoint shards:   0%|          | 0/2 [00:00<?, ?it/s]"
      ]
     },
     "metadata": {},
     "output_type": "display_data"
    }
   ],
   "source": [
    "pipeline = transformers.pipeline(\n",
    "    \"text-generation\",\n",
    "    model=model,\n",
    "    tokenizer=tokenizer,\n",
    "    torch_dtype=torch.bfloat16,\n",
    "    trust_remote_code=True,\n",
    "    do_sample=True,\n",
    "    top_k=10,\n",
    "    num_return_sequences=1,\n",
    "    eos_token_id=tokenizer.eos_token_id,\n",
    "    device_map=0,\n",
    "    temperature=0.1\n",
    ")"
   ]
  },
  {
   "cell_type": "code",
   "execution_count": 6,
   "metadata": {},
   "outputs": [],
   "source": [
    "llm = HuggingFacePipeline(pipeline = pipeline)"
   ]
  },
  {
   "cell_type": "code",
   "execution_count": 25,
   "metadata": {},
   "outputs": [],
   "source": [
    "options = ['True', 'False']\n",
    "template = \"\"\"\n",
    "\n",
    "You are a compliance officer who works at a financial institution. You will be provided with a summary sentence and a set of source sentences. \n",
    "Check if the summary sentence is a good summary of the source sentences from Named Entity and Named Entity Relationship perspectives.\n",
    "Please answer either \"True\" or \"False\" only, explaination is not needed.\n",
    "\n",
    "Source sentences: ```{source}```\n",
    "Summary sentence: ```{summary}```\n",
    "\n",
    "Final Answer (True/False only):\n",
    "           \"\"\""
   ]
  },
  {
   "cell_type": "code",
   "execution_count": null,
   "metadata": {},
   "outputs": [],
   "source": []
  },
  {
   "cell_type": "code",
   "execution_count": 33,
   "metadata": {},
   "outputs": [],
   "source": [
    "source = df1['text'][8]\n",
    "summary = df1['summary'][8]"
   ]
  },
  {
   "cell_type": "code",
   "execution_count": 34,
   "metadata": {},
   "outputs": [
    {
     "name": "stdout",
     "output_type": "stream",
     "text": [
      "Antoun also purchased 2,500 shares of Genesis stock in his friend’s account on November 12, 2007.Abed sold 3,344 shares of Genesis stock on December 21 and 26, 2007 and tendered the rest of his shares in January 2008.Antoun sold the shares he had purchased for profits of nearly $34,000, while Abed | sold all of his Genesis stock and call option contracts for profits of over $50,000.26. On October 29 and November 2, 2007, Abed purchased 600 shares and 400 shares, respectively, of Genesis common stock.On July 21, 2006, Antoun purchased 900 shares of Genesis stock in his friend’s account in \n",
      "advance of a Genesis earnings announcement.On December 10, 2007, before the merger was announced publicly, Abed purchased an additional 10,000 shares of Genesis common stock and 70 additional Genesis call option contracts.Antoun purchased 9,750 shares of Genesis stock in his relative’s account in multiple transactions on November 12, 13 and 19, and December 3, 2007.The next day, the stock opened at $13.44, 19.85% higher than the previous day’s close, and Antoun sold the 900 shares of Genesis at $13.18 per share, for a profit of approximately $2,235.That day nearly 15 million shares of Genesis stock traded, compared \n",
      "to 342,208 shares on December 10, 2007, and Genesis’ stock price increased 57% to close at $8.49. \n",
      "19. In January 2008, Antoun tendered all of the shares he had purchased in the two accounts \n",
      "| from November 12 through December 3, for total profits of approximately $33,975.2. After the merger was announced to the public on December 11, 2007, Genesis’ stock price skyrocketed 57%.\n"
     ]
    }
   ],
   "source": [
    "print(source)"
   ]
  },
  {
   "cell_type": "code",
   "execution_count": 35,
   "metadata": {},
   "outputs": [
    {
     "name": "stdout",
     "output_type": "stream",
     "text": [
      "After news of the merger was announced on December 11, 2007, Genesis's stock price skyrocketed 57 percent.\n"
     ]
    }
   ],
   "source": [
    "print(summary)"
   ]
  },
  {
   "cell_type": "code",
   "execution_count": 36,
   "metadata": {},
   "outputs": [],
   "source": [
    "prompt = PromptTemplate(template=template, input_variables=[\"source\", \"summary\"])\n",
    "llm_chain = LLMChain(prompt=prompt, \n",
    "                     llm=llm\n",
    "                     )"
   ]
  },
  {
   "cell_type": "code",
   "execution_count": 37,
   "metadata": {},
   "outputs": [
    {
     "name": "stdout",
     "output_type": "stream",
     "text": [
      " True\n"
     ]
    }
   ],
   "source": [
    "output = llm_chain.run(source=source, summary=summary)\n",
    "print(output)"
   ]
  },
  {
   "cell_type": "code",
   "execution_count": 39,
   "metadata": {},
   "outputs": [
    {
     "name": "stderr",
     "output_type": "stream",
     "text": [
      " 12%|█▏        | 2/17 [00:12<01:29,  5.99s/it]c:\\Users\\Yiche\\.conda\\envs\\Butis\\lib\\site-packages\\transformers\\pipelines\\base.py:1101: UserWarning: You seem to be using the pipelines sequentially on GPU. In order to maximize efficiency please use a dataset\n",
      "  warnings.warn(\n",
      "100%|██████████| 17/17 [01:37<00:00,  5.73s/it]\n"
     ]
    }
   ],
   "source": [
    "from tqdm import tqdm\n",
    "outputs = []\n",
    "for i in tqdm(range(df1.shape[0])):\n",
    "    source = df1['text'][i]\n",
    "    summary = df1['summary'][i]\n",
    "    output = llm_chain.run(source=source, summary=summary)\n",
    "    outputs.append(output)"
   ]
  },
  {
   "cell_type": "code",
   "execution_count": 40,
   "metadata": {},
   "outputs": [
    {
     "data": {
      "text/plain": [
       "[' True',\n",
       " ' True',\n",
       " ' True',\n",
       " ' True',\n",
       " ' True',\n",
       " ' True',\n",
       " ' True',\n",
       " ' True',\n",
       " ' True',\n",
       " ' True',\n",
       " ' True',\n",
       " ' False',\n",
       " ' True',\n",
       " ' True',\n",
       " ' True',\n",
       " ' True',\n",
       " ' True']"
      ]
     },
     "execution_count": 40,
     "metadata": {},
     "output_type": "execute_result"
    }
   ],
   "source": [
    "outputs"
   ]
  },
  {
   "cell_type": "code",
   "execution_count": null,
   "metadata": {},
   "outputs": [],
   "source": [
    "df1['output'] = outputs\n",
    "df.head()"
   ]
  }
 ],
 "metadata": {
  "kernelspec": {
   "display_name": "Butis",
   "language": "python",
   "name": "python3"
  },
  "language_info": {
   "codemirror_mode": {
    "name": "ipython",
    "version": 3
   },
   "file_extension": ".py",
   "mimetype": "text/x-python",
   "name": "python",
   "nbconvert_exporter": "python",
   "pygments_lexer": "ipython3",
   "version": "3.8.18"
  }
 },
 "nbformat": 4,
 "nbformat_minor": 2
}
