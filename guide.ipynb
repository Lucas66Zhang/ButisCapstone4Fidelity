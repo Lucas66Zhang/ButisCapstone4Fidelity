{
 "cells": [
  {
   "cell_type": "code",
   "execution_count": null,
   "outputs": [],
   "source": [
    "from guide import Guidance"
   ],
   "metadata": {
    "collapsed": false
   },
   "id": "323db297fb099e0a"
  },
  {
   "cell_type": "code",
   "execution_count": null,
   "outputs": [],
   "source": [
    "guidance = Guidance(LM_name=\"huggyllama/llama-7b\")"
   ],
   "metadata": {
    "collapsed": false
   },
   "id": "ad535aa7de090b87"
  },
  {
   "cell_type": "code",
   "execution_count": null,
   "outputs": [],
   "source": [
    "prompt = \"\"\n",
    "options = [\"Yes\", \"No\"]"
   ],
   "metadata": {
    "collapsed": false
   },
   "id": "b8efba9d6be9e4c"
  },
  {
   "cell_type": "code",
   "execution_count": null,
   "outputs": [],
   "source": [
    "best_opt, prob = guidance.generate(prompt=prompt, options=options)"
   ],
   "metadata": {
    "collapsed": false
   },
   "id": "902c84343ff56cfc"
  }
 ],
 "metadata": {
  "kernelspec": {
   "display_name": "Python 3",
   "language": "python",
   "name": "python3"
  },
  "language_info": {
   "codemirror_mode": {
    "name": "ipython",
    "version": 2
   },
   "file_extension": ".py",
   "mimetype": "text/x-python",
   "name": "python",
   "nbconvert_exporter": "python",
   "pygments_lexer": "ipython2",
   "version": "2.7.6"
  }
 },
 "nbformat": 4,
 "nbformat_minor": 5
}
