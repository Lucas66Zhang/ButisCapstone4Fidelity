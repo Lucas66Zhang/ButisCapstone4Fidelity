{
 "cells": [
  {
   "cell_type": "code",
   "execution_count": 29,
   "metadata": {},
   "outputs": [],
   "source": [
    "import os\n",
    "import requests\n",
    "from tqdm import tqdm\n",
    "from bs4 import BeautifulSoup"
   ]
  },
  {
   "cell_type": "code",
   "execution_count": 2,
   "metadata": {},
   "outputs": [],
   "source": [
    "sample_docu_url = 'https://www.sec.gov/litigation/litreleases?page=0'\n",
    "response = requests.get(sample_docu_url)\n",
    "soup = BeautifulSoup(response.text, 'html.parser')\n"
   ]
  },
  {
   "cell_type": "code",
   "execution_count": 11,
   "metadata": {},
   "outputs": [
    {
     "data": {
      "text/plain": [
       "<a href=\"/files/litigation/complaints/2023/comp25833.pdf\" type=\"application/pdf\">SEC Complaint</a>"
      ]
     },
     "execution_count": 11,
     "metadata": {},
     "output_type": "execute_result"
    }
   ],
   "source": [
    "docu_list = list(set(soup.find_all(\"a\", {\"type\": \"application/pdf\"}, href=True)))\n",
    "docu_list[0]"
   ]
  },
  {
   "cell_type": "code",
   "execution_count": 65,
   "metadata": {},
   "outputs": [
    {
     "name": "stderr",
     "output_type": "stream",
     "text": [
      "100%|██████████| 20/20 [05:55<00:00, 17.79s/it]\n"
     ]
    }
   ],
   "source": [
    "total_page = 20\n",
    "for page in tqdm(range(total_page)):\n",
    "    docu_url = f'https://www.sec.gov/litigation/litreleases?page={page}'\n",
    "    response = requests.get(docu_url)\n",
    "    soup = BeautifulSoup(response.text, 'html.parser')\n",
    "    docu_list = list(set(soup.find_all(\"a\", {\"type\": \"application/pdf\"}, href=True)))\n",
    "    \n",
    "    docu_href_list = []\n",
    "    for docu in docu_list:\n",
    "        if 'SEC Complaint' in docu.getText():\n",
    "            pdf_url = 'https://www.sec.gov/'+ docu.get('href')\n",
    "            docu_href_list.append(pdf_url)\n",
    "            pdf_name = pdf_url.split('/')[-1]\n",
    "            pdf_path = os.path.join(\"Documents\", pdf_name)\n",
    "            response_pdf = requests.get(pdf_url)\n",
    "\n",
    "            with open(pdf_path, 'wb') as f:\n",
    "                f.write(response_pdf.content)\n",
    "    "
   ]
  },
  {
   "cell_type": "code",
   "execution_count": null,
   "metadata": {},
   "outputs": [],
   "source": []
  }
 ],
 "metadata": {
  "kernelspec": {
   "display_name": "base",
   "language": "python",
   "name": "python3"
  },
  "language_info": {
   "codemirror_mode": {
    "name": "ipython",
    "version": 3
   },
   "file_extension": ".py",
   "mimetype": "text/x-python",
   "name": "python",
   "nbconvert_exporter": "python",
   "pygments_lexer": "ipython3",
   "version": "3.10.8"
  },
  "orig_nbformat": 4
 },
 "nbformat": 4,
 "nbformat_minor": 2
}
