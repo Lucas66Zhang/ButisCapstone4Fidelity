{
 "cells": [
  {
   "cell_type": "code",
   "execution_count": 1,
   "metadata": {},
   "outputs": [],
   "source": [
    "import torch\n",
    "from transformers import AutoModelForCausalLM, AutoTokenizer"
   ]
  },
  {
   "cell_type": "code",
   "execution_count": 2,
   "metadata": {},
   "outputs": [
    {
     "data": {
      "application/vnd.jupyter.widget-view+json": {
       "model_id": "3566ef488bb8452badfe490b51b6cdb3",
       "version_major": 2,
       "version_minor": 0
      },
      "text/plain": [
       "Downloading (…)okenizer_config.json:   0%|          | 0.00/1.62k [00:00<?, ?B/s]"
      ]
     },
     "metadata": {},
     "output_type": "display_data"
    },
    {
     "name": "stderr",
     "output_type": "stream",
     "text": [
      "c:\\Users\\Yiche\\.conda\\envs\\Butis\\lib\\site-packages\\huggingface_hub\\file_download.py:137: UserWarning: `huggingface_hub` cache-system uses symlinks by default to efficiently store duplicated files but your machine does not support them in C:\\Users\\Yiche\\.cache\\huggingface\\hub. Caching files will still work but in a degraded version that might require more space on your disk. This warning can be disabled by setting the `HF_HUB_DISABLE_SYMLINKS_WARNING` environment variable. For more details, see https://huggingface.co/docs/huggingface_hub/how-to-cache#limitations.\n",
      "To support symlinks on Windows, you either need to activate Developer Mode or to run Python as an administrator. In order to see activate developer mode, see this article: https://docs.microsoft.com/en-us/windows/apps/get-started/enable-your-device-for-development\n",
      "  warnings.warn(message)\n"
     ]
    },
    {
     "data": {
      "application/vnd.jupyter.widget-view+json": {
       "model_id": "ea91541f0fc54562a62be26c989fe96f",
       "version_major": 2,
       "version_minor": 0
      },
      "text/plain": [
       "Downloading tokenizer.model:   0%|          | 0.00/500k [00:00<?, ?B/s]"
      ]
     },
     "metadata": {},
     "output_type": "display_data"
    },
    {
     "data": {
      "application/vnd.jupyter.widget-view+json": {
       "model_id": "e5bab8426f2b43c298fd58c70b6f8a82",
       "version_major": 2,
       "version_minor": 0
      },
      "text/plain": [
       "Downloading (…)/main/tokenizer.json:   0%|          | 0.00/1.84M [00:00<?, ?B/s]"
      ]
     },
     "metadata": {},
     "output_type": "display_data"
    },
    {
     "data": {
      "application/vnd.jupyter.widget-view+json": {
       "model_id": "6cb41ebee0ec477fb290add96c394463",
       "version_major": 2,
       "version_minor": 0
      },
      "text/plain": [
       "Downloading (…)cial_tokens_map.json:   0%|          | 0.00/414 [00:00<?, ?B/s]"
      ]
     },
     "metadata": {},
     "output_type": "display_data"
    },
    {
     "data": {
      "application/vnd.jupyter.widget-view+json": {
       "model_id": "09a323038a0f4b4683fd346c31aa9c3b",
       "version_major": 2,
       "version_minor": 0
      },
      "text/plain": [
       "Downloading (…)lve/main/config.json:   0%|          | 0.00/614 [00:00<?, ?B/s]"
      ]
     },
     "metadata": {},
     "output_type": "display_data"
    },
    {
     "data": {
      "application/vnd.jupyter.widget-view+json": {
       "model_id": "f21b32d2cdde47719457143886adae31",
       "version_major": 2,
       "version_minor": 0
      },
      "text/plain": [
       "Downloading (…)fetensors.index.json:   0%|          | 0.00/26.8k [00:00<?, ?B/s]"
      ]
     },
     "metadata": {},
     "output_type": "display_data"
    },
    {
     "data": {
      "application/vnd.jupyter.widget-view+json": {
       "model_id": "03ccad4305224fb99434ac636518486d",
       "version_major": 2,
       "version_minor": 0
      },
      "text/plain": [
       "Downloading shards:   0%|          | 0/2 [00:00<?, ?it/s]"
      ]
     },
     "metadata": {},
     "output_type": "display_data"
    },
    {
     "data": {
      "application/vnd.jupyter.widget-view+json": {
       "model_id": "084a5dc1ea034ade97c727df43093fb4",
       "version_major": 2,
       "version_minor": 0
      },
      "text/plain": [
       "Downloading (…)of-00002.safetensors:   0%|          | 0.00/9.98G [00:00<?, ?B/s]"
      ]
     },
     "metadata": {},
     "output_type": "display_data"
    },
    {
     "data": {
      "application/vnd.jupyter.widget-view+json": {
       "model_id": "91e6006830834db4af3faa1ff76bfe66",
       "version_major": 2,
       "version_minor": 0
      },
      "text/plain": [
       "Downloading (…)of-00002.safetensors:   0%|          | 0.00/3.50G [00:00<?, ?B/s]"
      ]
     },
     "metadata": {},
     "output_type": "display_data"
    },
    {
     "data": {
      "application/vnd.jupyter.widget-view+json": {
       "model_id": "c385ed9207cc49099c2f68d1cdb5f4df",
       "version_major": 2,
       "version_minor": 0
      },
      "text/plain": [
       "Loading checkpoint shards:   0%|          | 0/2 [00:00<?, ?it/s]"
      ]
     },
     "metadata": {},
     "output_type": "display_data"
    },
    {
     "data": {
      "application/vnd.jupyter.widget-view+json": {
       "model_id": "4200e90a337b407482835ac3cff150cd",
       "version_major": 2,
       "version_minor": 0
      },
      "text/plain": [
       "Downloading (…)neration_config.json:   0%|          | 0.00/188 [00:00<?, ?B/s]"
      ]
     },
     "metadata": {},
     "output_type": "display_data"
    }
   ],
   "source": [
    "\n",
    "model_name = 'meta-llama/Llama-2-7b-chat-hf'\n",
    "tokenize = AutoTokenizer.from_pretrained(model_name)\n",
    "model = AutoModelForCausalLM.from_pretrained(model_name)"
   ]
  },
  {
   "cell_type": "code",
   "execution_count": 126,
   "metadata": {},
   "outputs": [],
   "source": [
    "true_summary = \"According to the Commission's complaint, the defendants raised at least $23.4 million from thousands of investors in the Haitian-American community nationwide through a network of purported investment clubs Theodule directs investors to form.\"\n",
    "true_text = \"\"\"The Defendants have engaged in a fraudulent Ponzi scheme primarily targeting the US Haitian community since at least November 2007.This includes net transfers of at least $1.7 million to his personal bank accounts, cash withdrawals of more than $1.5 million and more than $600,000 for apparent personal expenses such as two luxury vehicles, credit card bills, a wedding payment, and a house down payment.21. The investment clubs pool investor funds and send them to Creative Capital for a 90-day period, during which Theodule purportedly trades stocks and options on behalf of the investment club members.Page 2 of 10 \n",
    "$15.2 million collected from new investors in typical Ponzi scheme fashion.Page 4 of 10 \n",
    "made millionaires out of a significant number of people in the time it had taken her to decide to invest, and pressured her to liquidate the equity in her home to invest with him.14. Theodule ingratiates himself with investors by claiming he recently decided to offer his investment expertise to help build wealth in the Haitian community.He also tells investors he uses part of his trading profits to fund start-up businesses in the Haitian community, as well as business projects in Haiti and Sierra Leone.15. The Defendants primarily attract investors through word-of-mouth, and Theodule makes his representations during face-to-face meetings in which he touts his ability to double investor funds in just 90 days.18. Since the commencement of the investment scheme, the Defendants have raised more than $23.4 million from thousands of investors nationwide.2, From at least November 2007 to the present, Theodule, directly and through the Companies, has raised at least $23.4 million from thousands of investors in an ongoing fraud and Ponzi scheme targeting mostly Haitian and Haitian-American investors nationwide.\"\"\"\n",
    "\n",
    "false_summary = \" According to the Commission's complaint, the defendants raised at least $789 billion from thousands of investors in the French community nationwide through a network of purported investment clubs Theodule directs investors to form.\"\n",
    "\n",
    "false_text = \"\"\"The Defendants have engaged in a fraudulent Ponzi scheme primarily targeting the US Haitian community since at least November 2007.This includes net transfers of at least $1.7 million to his personal bank accounts, cash withdrawals of more than $1.5 million and more than $600,000 for apparent personal expenses such as two luxury vehicles, credit card bills, a wedding payment, and a house down payment.21. The investment clubs pool investor funds and send them to Creative Capital for a 90-day period, during which Theodule purportedly trades stocks and options on behalf of the investment club members.Page 2 of 10 \n",
    "$15.2 million collected from new investors in typical Ponzi scheme fashion.Page 4 of 10 \n",
    "made millionaires out of a significant number of people in the time it had taken her to decide to invest, and pressured her to liquidate the equity in her home to invest with him.14. Theodule ingratiates himself with investors by claiming he recently decided to offer his investment expertise to help build wealth in the Haitian community.He also tells investors he uses part of his trading profits to fund start-up businesses in the Haitian community, as well as business projects in Haiti and Sierra Leone.15. The Defendants primarily attract investors through word-of-mouth, and Theodule makes his representations during face-to-face meetings in which he touts his ability to double investor funds in just 90 days.18. Since the commencement of the investment scheme, the Defendants have raised more than $23.4 million from thousands of investors nationwide.2, From at least November 2007 to the present, Theodule, directly and through the Companies, has raised at least $23.4 million from thousands of investors in an ongoing fraud and Ponzi scheme targeting mostly Haitian and Haitian-American investors nationwide.\"\"\"\n",
    "\n",
    "true_input_text = f\"\"\"Evaluate the compliance of a summary sentence derived from a set of sentences in a financial document. Adhere to the following verification standards:\n",
    "1. Entity consistency: Check that all named entities in the summary are extracted from the source.\n",
    "2. Relationship verification: Confirm that relationships between entities in the summary are present and correctly depicted in the source.\n",
    "3. Directionality check: Ensure that the direction of relationships between entities in the summary matches those in the source.\n",
    "4. Factual integrity: Ascertain that the summary is free from factual errors when compared to the source.\n",
    "5. Entity authenticity: Confirm that the summary does not create non-existent entities.\n",
    "\n",
    "Based on these criteria, determine if the summary sentence is a faithful representation of the source sentences. Respond with \"True\" if the summary complies with all standards, or \"False\" if it does not.\n",
    "\n",
    "Summary sentence: {true_summary}\n",
    "\n",
    "Source sentences: {true_text}\"\"\"\n",
    "\n",
    "false_input_text = f\"\"\"Evaluate the compliance of a summary sentence derived from a set of sentences in a financial document. Adhere to the following verification standards:\n",
    "1. Entity consistency: Check that all named entities in the summary are extracted from the source.\n",
    "2. Relationship verification: Confirm that relationships between entities in the summary are present and correctly depicted in the source.\n",
    "3. Directionality check: Ensure that the direction of relationships between entities in the summary matches those in the source.\n",
    "4. Factual integrity: Ascertain that the summary is free from factual errors when compared to the source.\n",
    "5. Entity authenticity: Confirm that the summary does not create non-existent entities.\n",
    "\n",
    "Based on these criteria, determine if the summary sentence is a faithful representation of the source sentences. Respond with \"True\" if the summary complies with all standards, or \"False\" if it does not.\n",
    "\n",
    "Summary sentence: {false_summary}\n",
    "\n",
    "Source sentences: {false_text}\"\"\"\n"
   ]
  },
  {
   "cell_type": "code",
   "execution_count": 148,
   "metadata": {},
   "outputs": [],
   "source": [
    "true_input_text = f\"\"\"\n",
    "As a compliance officer at a financial institution, you're tasked with evaluating the accuracy of a summary sentence based on its alignment with source sentences from a financial document. Consider the following criteria carefully:\n",
    "\n",
    "1. The summary accurately reflects the content of the source sentences, especially numerical information.\n",
    "2. All named entities in the summary are present in the source sentences.\n",
    "3. Relationships between entities in the summary are consistent with those in the source sentences.\n",
    "4. The directional flow of relationships among named entities matches between the summary and source sentences.\n",
    "5. There are no factual discrepancies between the summary and source sentences.\n",
    "6. The summary does not introduce any entities not found in the source sentences.\n",
    "\n",
    "Your job is to determine if the summary adheres to these criteria. Answer \"Yes\" if it does, or \"No\" if it doesn't.\n",
    "\n",
    "Summary sentence: ```{true_summary}```\n",
    "\n",
    "Source sentences: ```{true_text}```\n",
    "\n",
    "Final Answer (Yes/No only): \"\"\"\n",
    "false_input_text = f\"\"\"\n",
    "As a compliance officer at a financial institution, you're tasked with evaluating the accuracy of a summary sentence based on its alignment with source sentences from a financial document. Consider the following criteria carefully:\n",
    "\n",
    "1. The summary accurately reflects the content of the source sentences, especially numerical information.\n",
    "2. All named entities in the summary are present in the source sentences.\n",
    "3. Relationships between entities in the summary are consistent with those in the source sentences.\n",
    "4. The directional flow of relationships among named entities matches between the summary and source sentences.\n",
    "5. There are no factual discrepancies between the summary and source sentences.\n",
    "6. The summary does not introduce any entities not found in the source sentences.\n",
    "\n",
    "Your job is to determine if the summary adheres to these criteria. Answer \"Yes\" if it does, or \"No\" if it doesn't.\n",
    "\n",
    "Summary sentence: ```{false_summary}```\n",
    "\n",
    "Source sentences: ```{true_text}```\n",
    "\n",
    "Final Answer (Yes/No only): \"\"\""
   ]
  },
  {
   "cell_type": "code",
   "execution_count": 151,
   "metadata": {},
   "outputs": [
    {
     "name": "stdout",
     "output_type": "stream",
     "text": [
      "\n",
      "As a compliance officer at a financial institution, you're tasked with evaluating the accuracy of a summary sentence based on its alignment with source sentences from a financial document. Consider the following criteria carefully:\n",
      "\n",
      "1. The summary accurately reflects the content of the source sentences, especially numerical information.\n",
      "2. All named entities in the summary are present in the source sentences.\n",
      "3. Relationships between entities in the summary are consistent with those in the source sentences.\n",
      "4. The directional flow of relationships among named entities matches between the summary and source sentences.\n",
      "5. There are no factual discrepancies between the summary and source sentences.\n",
      "6. The summary does not introduce any entities not found in the source sentences.\n",
      "\n",
      "Your job is to determine if the summary adheres to these criteria. Answer \"Yes\" if it does, or \"No\" if it doesn't.\n",
      "\n",
      "Summary sentence: ```According to the Commission's complaint, the defendants raised at least $23.4 million from thousands of investors in the Haitian-American community nationwide through a network of purported investment clubs Theodule directs investors to form.```\n",
      "\n",
      "Source sentences: ```The Defendants have engaged in a fraudulent Ponzi scheme primarily targeting the US Haitian community since at least November 2007.This includes net transfers of at least $1.7 million to his personal bank accounts, cash withdrawals of more than $1.5 million and more than $600,000 for apparent personal expenses such as two luxury vehicles, credit card bills, a wedding payment, and a house down payment.21. The investment clubs pool investor funds and send them to Creative Capital for a 90-day period, during which Theodule purportedly trades stocks and options on behalf of the investment club members.Page 2 of 10 \n",
      "$15.2 million collected from new investors in typical Ponzi scheme fashion.Page 4 of 10 \n",
      "made millionaires out of a significant number of people in the time it had taken her to decide to invest, and pressured her to liquidate the equity in her home to invest with him.14. Theodule ingratiates himself with investors by claiming he recently decided to offer his investment expertise to help build wealth in the Haitian community.He also tells investors he uses part of his trading profits to fund start-up businesses in the Haitian community, as well as business projects in Haiti and Sierra Leone.15. The Defendants primarily attract investors through word-of-mouth, and Theodule makes his representations during face-to-face meetings in which he touts his ability to double investor funds in just 90 days.18. Since the commencement of the investment scheme, the Defendants have raised more than $23.4 million from thousands of investors nationwide.2, From at least November 2007 to the present, Theodule, directly and through the Companies, has raised at least $23.4 million from thousands of investors in an ongoing fraud and Ponzi scheme targeting mostly Haitian and Haitian-American investors nationwide.```\n",
      "\n",
      "Final Answer (Yes/No only): \n"
     ]
    }
   ],
   "source": [
    "print(true_input_text)"
   ]
  },
  {
   "cell_type": "code",
   "execution_count": 7,
   "metadata": {},
   "outputs": [
    {
     "ename": "NameError",
     "evalue": "name 'false_input_text' is not defined",
     "output_type": "error",
     "traceback": [
      "\u001b[1;31m---------------------------------------------------------------------------\u001b[0m",
      "\u001b[1;31mNameError\u001b[0m                                 Traceback (most recent call last)",
      "\u001b[1;32me:\\GitHub\\ButisCapstone4Fidelity\\llama.ipynb Cell 6\u001b[0m line \u001b[0;36m2\n\u001b[0;32m      <a href='vscode-notebook-cell:/e%3A/GitHub/ButisCapstone4Fidelity/llama.ipynb#W4sZmlsZQ%3D%3D?line=0'>1</a>\u001b[0m true_input \u001b[39m=\u001b[39m tokenize(true_input_text, return_tensors\u001b[39m=\u001b[39m\u001b[39m'\u001b[39m\u001b[39mpt\u001b[39m\u001b[39m'\u001b[39m)\n\u001b[1;32m----> <a href='vscode-notebook-cell:/e%3A/GitHub/ButisCapstone4Fidelity/llama.ipynb#W4sZmlsZQ%3D%3D?line=1'>2</a>\u001b[0m false_input \u001b[39m=\u001b[39m tokenize(false_input_text, return_tensors\u001b[39m=\u001b[39m\u001b[39m'\u001b[39m\u001b[39mpt\u001b[39m\u001b[39m'\u001b[39m)\n\u001b[0;32m      <a href='vscode-notebook-cell:/e%3A/GitHub/ButisCapstone4Fidelity/llama.ipynb#W4sZmlsZQ%3D%3D?line=3'>4</a>\u001b[0m True_idx \u001b[39m=\u001b[39m tokenize\u001b[39m.\u001b[39mencode(\u001b[39m\"\u001b[39m\u001b[39mYes\u001b[39m\u001b[39m\"\u001b[39m, add_special_tokens\u001b[39m=\u001b[39m\u001b[39mFalse\u001b[39;00m)[\u001b[39m0\u001b[39m]\n\u001b[0;32m      <a href='vscode-notebook-cell:/e%3A/GitHub/ButisCapstone4Fidelity/llama.ipynb#W4sZmlsZQ%3D%3D?line=4'>5</a>\u001b[0m False_idx \u001b[39m=\u001b[39m tokenize\u001b[39m.\u001b[39mencode(\u001b[39m\"\u001b[39m\u001b[39mNo\u001b[39m\u001b[39m\"\u001b[39m, add_special_tokens\u001b[39m=\u001b[39m\u001b[39mFalse\u001b[39;00m)[\u001b[39m0\u001b[39m]\n",
      "\u001b[1;31mNameError\u001b[0m: name 'false_input_text' is not defined"
     ]
    }
   ],
   "source": [
    "\n",
    "true_input = tokenize(true_input_text, return_tensors='pt')\n",
    "false_input = tokenize(false_input_text, return_tensors='pt')\n",
    "\n",
    "True_idx = tokenize.encode(\"Yes\", add_special_tokens=False)[0]\n",
    "False_idx = tokenize.encode(\"No\", add_special_tokens=False)[0]"
   ]
  },
  {
   "cell_type": "code",
   "execution_count": 145,
   "metadata": {},
   "outputs": [],
   "source": [
    "true_output = model(**true_input)\n",
    "true_logits = true_output.logits"
   ]
  },
  {
   "cell_type": "code",
   "execution_count": 146,
   "metadata": {},
   "outputs": [
    {
     "name": "stdout",
     "output_type": "stream",
     "text": [
      "0.8104104399681091 0.028739161789417267\n",
      "True\n"
     ]
    }
   ],
   "source": [
    "prob = torch.softmax(true_logits[:, -1, :], dim=1)\n",
    "yes_prob = prob[:, True_idx].item()\n",
    "no_prob = prob[:, False_idx].item()\n",
    "print(yes_prob, no_prob)\n",
    "print(yes_prob > no_prob)"
   ]
  },
  {
   "cell_type": "code",
   "execution_count": 147,
   "metadata": {},
   "outputs": [
    {
     "name": "stdout",
     "output_type": "stream",
     "text": [
      "0.8190540075302124 0.05533132329583168\n",
      "True\n"
     ]
    }
   ],
   "source": [
    "false_output = model(**false_input)\n",
    "false_logits = false_output.logits\n",
    "false_prob = torch.softmax(false_logits[:, -1, :], dim=1)\n",
    "yes_false_prob = false_prob[:, True_idx].item()\n",
    "no_false_prob = false_prob[:, False_idx].item()\n",
    "print(yes_false_prob, no_false_prob)\n",
    "print(yes_false_prob > no_false_prob)\n"
   ]
  },
  {
   "cell_type": "code",
   "execution_count": 4,
   "metadata": {},
   "outputs": [],
   "source": [
    "true_input_text = f\"\"\"\n",
    "Question: Can cat fly?\n",
    "Answer:\n",
    "\"\"\""
   ]
  },
  {
   "cell_type": "code",
   "execution_count": 5,
   "metadata": {},
   "outputs": [],
   "source": [
    "true_input = tokenize(true_input_text, return_tensors='pt')"
   ]
  },
  {
   "cell_type": "code",
   "execution_count": 8,
   "metadata": {},
   "outputs": [],
   "source": [
    "True_idx = tokenize.encode(\"Yes\", add_special_tokens=False)[0]\n",
    "False_idx = tokenize.encode(\"No\", add_special_tokens=False)[0]"
   ]
  },
  {
   "cell_type": "code",
   "execution_count": 9,
   "metadata": {},
   "outputs": [
    {
     "name": "stdout",
     "output_type": "stream",
     "text": [
      "0.00031695698271505535 0.011991030536592007\n",
      "False\n"
     ]
    }
   ],
   "source": [
    "true_output = model(**true_input)\n",
    "true_logits = true_output.logits\n",
    "prob = torch.softmax(true_logits[:, -1, :], dim=1)\n",
    "yes_prob = prob[:, True_idx].item()\n",
    "no_prob = prob[:, False_idx].item()\n",
    "print(yes_prob, no_prob)\n",
    "print(yes_prob > no_prob)"
   ]
  }
 ],
 "metadata": {
  "kernelspec": {
   "display_name": "Butis",
   "language": "python",
   "name": "python3"
  },
  "language_info": {
   "codemirror_mode": {
    "name": "ipython",
    "version": 3
   },
   "file_extension": ".py",
   "mimetype": "text/x-python",
   "name": "python",
   "nbconvert_exporter": "python",
   "pygments_lexer": "ipython3",
   "version": "3.8.18"
  }
 },
 "nbformat": 4,
 "nbformat_minor": 2
}
