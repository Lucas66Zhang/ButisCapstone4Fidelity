{
 "cells": [
  {
   "cell_type": "code",
   "execution_count": 1,
   "id": "323db297fb099e0a",
   "metadata": {
    "collapsed": false
   },
   "outputs": [],
   "source": [
    "from guide import Guidance"
   ]
  },
  {
   "cell_type": "code",
   "execution_count": 2,
   "id": "ad535aa7de090b87",
   "metadata": {
    "collapsed": false
   },
   "outputs": [
    {
     "data": {
      "application/vnd.jupyter.widget-view+json": {
       "model_id": "1b81ef94d922465f85eb242f7e275bb1",
       "version_major": 2,
       "version_minor": 0
      },
      "text/plain": [
       "Loading checkpoint shards:   0%|          | 0/2 [00:00<?, ?it/s]"
      ]
     },
     "metadata": {},
     "output_type": "display_data"
    }
   ],
   "source": [
    "guidance = Guidance(LM_name=\"huggyllama/llama-7b\")"
   ]
  },
  {
   "cell_type": "code",
   "execution_count": 3,
   "metadata": {},
   "outputs": [],
   "source": [
    "true_summary = \"According to the Commission's complaint, the defendants raised at least $23.4 million from thousands of investors in the Haitian-American community nationwide through a network of purported investment clubs Theodule directs investors to form.\"\n",
    "true_text = \"\"\"The Defendants have engaged in a fraudulent Ponzi scheme primarily targeting the US Haitian community since at least November 2007.This includes net transfers of at least $1.7 million to his personal bank accounts, cash withdrawals of more than $1.5 million and more than $600,000 for apparent personal expenses such as two luxury vehicles, credit card bills, a wedding payment, and a house down payment.21. The investment clubs pool investor funds and send them to Creative Capital for a 90-day period, during which Theodule purportedly trades stocks and options on behalf of the investment club members.Page 2 of 10 \n",
    "$15.2 million collected from new investors in typical Ponzi scheme fashion.Page 4 of 10 \n",
    "made millionaires out of a significant number of people in the time it had taken her to decide to invest, and pressured her to liquidate the equity in her home to invest with him.14. Theodule ingratiates himself with investors by claiming he recently decided to offer his investment expertise to help build wealth in the Haitian community.He also tells investors he uses part of his trading profits to fund start-up businesses in the Haitian community, as well as business projects in Haiti and Sierra Leone.15. The Defendants primarily attract investors through word-of-mouth, and Theodule makes his representations during face-to-face meetings in which he touts his ability to double investor funds in just 90 days.18. Since the commencement of the investment scheme, the Defendants have raised more than $23.4 million from thousands of investors nationwide.2, From at least November 2007 to the present, Theodule, directly and through the Companies, has raised at least $23.4 million from thousands of investors in an ongoing fraud and Ponzi scheme targeting mostly Haitian and Haitian-American investors nationwide.\"\"\"\n",
    "\n",
    "false_summary = \" According to the Commission's complaint, the defendants raised at least $789 million from thousands of investors in the Haitian-American community nationwide through a network of purported investment clubs Theodule directs investors to form.\"\n",
    "false_text = true_text\n",
    "\n",
    "true_input_text = f\"\"\"please tell me whether or not the following summary sentence is faithful to the given source sentence. answer \"yes\" if it is, and \"no\" if it is not. Here are the summary and source sentences:\n",
    "\n",
    "Summary sentence: {true_summary}\n",
    "\n",
    "Source sentences: {true_text}\"\"\"\n",
    "\n",
    "false_input_text = f\"\"\"please tell me whether or not the following summary sentence is faithful to the given source sentence. answer \"yes\" if it is, and \"no\" if it is not. Here are the summary and source sentences:\n",
    "\n",
    "Summary sentence: {false_summary}\n",
    "\n",
    "Source sentences: {false_text}\"\"\""
   ]
  },
  {
   "cell_type": "code",
   "execution_count": 4,
   "id": "b8efba9d6be9e4c",
   "metadata": {
    "collapsed": false
   },
   "outputs": [],
   "source": [
    "\n",
    "options = [\"Yes\", \"No\"]"
   ]
  },
  {
   "cell_type": "code",
   "execution_count": 5,
   "id": "902c84343ff56cfc",
   "metadata": {
    "collapsed": false
   },
   "outputs": [],
   "source": [
    "best_opt, prob = guidance.generate(prompt=true_input_text, options=options)"
   ]
  },
  {
   "cell_type": "code",
   "execution_count": 6,
   "metadata": {},
   "outputs": [
    {
     "data": {
      "text/plain": [
       "'No'"
      ]
     },
     "execution_count": 6,
     "metadata": {},
     "output_type": "execute_result"
    }
   ],
   "source": [
    "best_opt"
   ]
  },
  {
   "cell_type": "code",
   "execution_count": 7,
   "metadata": {},
   "outputs": [
    {
     "data": {
      "text/plain": [
       "[0.06966295209388648, 0.9303370479061136]"
      ]
     },
     "execution_count": 7,
     "metadata": {},
     "output_type": "execute_result"
    }
   ],
   "source": [
    "prob"
   ]
  },
  {
   "cell_type": "code",
   "execution_count": null,
   "metadata": {},
   "outputs": [],
   "source": [
    "best_opt, prob = guidance.generate(prompt=false_input_text, options=options)"
   ]
  },
  {
   "cell_type": "code",
   "execution_count": null,
   "metadata": {},
   "outputs": [
    {
     "data": {
      "text/plain": [
       "'No'"
      ]
     },
     "execution_count": 30,
     "metadata": {},
     "output_type": "execute_result"
    }
   ],
   "source": [
    "best_opt"
   ]
  },
  {
   "cell_type": "code",
   "execution_count": null,
   "metadata": {},
   "outputs": [
    {
     "data": {
      "text/plain": [
       "{'Yes': [0.04183370620012283, 0.9581663012504578]}"
      ]
     },
     "execution_count": 31,
     "metadata": {},
     "output_type": "execute_result"
    }
   ],
   "source": [
    "prob"
   ]
  }
 ],
 "metadata": {
  "kernelspec": {
   "display_name": "Python 3",
   "language": "python",
   "name": "python3"
  },
  "language_info": {
   "codemirror_mode": {
    "name": "ipython",
    "version": 3
   },
   "file_extension": ".py",
   "mimetype": "text/x-python",
   "name": "python",
   "nbconvert_exporter": "python",
   "pygments_lexer": "ipython3",
   "version": "3.8.18"
  }
 },
 "nbformat": 4,
 "nbformat_minor": 5
}
