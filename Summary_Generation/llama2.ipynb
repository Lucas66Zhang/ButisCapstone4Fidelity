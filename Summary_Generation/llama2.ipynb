{
 "cells": [
  {
   "cell_type": "code",
   "execution_count": 3,
   "metadata": {},
   "outputs": [],
   "source": [
    "import torch\n",
    "import transformers\n",
    "from transformers import AutoTokenizer\n",
    "from  langchain import LLMChain, HuggingFacePipeline, PromptTemplate"
   ]
  },
  {
   "cell_type": "code",
   "execution_count": 4,
   "metadata": {},
   "outputs": [],
   "source": [
    "model = \"meta-llama/Llama-2-7b-chat-hf\"\n",
    "tokenizer = AutoTokenizer.from_pretrained(model)"
   ]
  },
  {
   "cell_type": "code",
   "execution_count": 6,
   "metadata": {},
   "outputs": [
    {
     "data": {
      "application/vnd.jupyter.widget-view+json": {
       "model_id": "325db846ea9d4e92bcaf2599a11bceb1",
       "version_major": 2,
       "version_minor": 0
      },
      "text/plain": [
       "Loading checkpoint shards:   0%|          | 0/2 [00:00<?, ?it/s]"
      ]
     },
     "metadata": {},
     "output_type": "display_data"
    }
   ],
   "source": [
    "pipeline = transformers.pipeline(\n",
    "    \"text-generation\",\n",
    "    model=model,\n",
    "    tokenizer=tokenizer,\n",
    "    torch_dtype=torch.bfloat16,\n",
    "    trust_remote_code=True,\n",
    "    max_length=3000,\n",
    "    do_sample=True,\n",
    "    top_k=10,\n",
    "    num_return_sequences=1,\n",
    "    eos_token_id=tokenizer.eos_token_id,\n",
    "    device_map=\"auto\"\n",
    ")"
   ]
  },
  {
   "cell_type": "code",
   "execution_count": 7,
   "metadata": {},
   "outputs": [],
   "source": [
    "llm = HuggingFacePipeline(pipeline = pipeline, model_kwargs = {'temperature':0})"
   ]
  },
  {
   "cell_type": "code",
   "execution_count": 8,
   "metadata": {},
   "outputs": [],
   "source": [
    "template = \"\"\"\n",
    "              You are a compliance officer who works at a financial institution. You need to create a summary that covers all important points. Summarize the following text.\n",
    "              ```{text}```\n",
    "              SUMMARY:\n",
    "           \"\"\""
   ]
  },
  {
   "cell_type": "code",
   "execution_count": 9,
   "metadata": {},
   "outputs": [],
   "source": [
    "prompt = PromptTemplate(template=template, input_variables=[\"text\"])\n",
    "llm_chain = LLMChain(prompt=prompt, llm=llm)"
   ]
  },
  {
   "cell_type": "code",
   "execution_count": 10,
   "metadata": {},
   "outputs": [],
   "source": [
    "text = \"\"\"\n",
    "Patient Name: John Doe\n",
    "Date of Birth: January 15, 1975\n",
    "Gender: Male\n",
    "Medical Record Number: 123456789\n",
    "Date of Assessment: August 18, 2023\n",
    "\n",
    "I. Chief Complaint:\n",
    "The patient presents with complaints of persistent fatigue, unexplained weight loss, and intermittent abdominal pain over the past few months. He reports a gradual decrease in appetite and occasional nausea. The patient is seeking medical evaluation to determine the underlying cause of his symptoms.\n",
    "\n",
    "II. Medical History:\n",
    "The patient has a history of hypertension managed with medication for the past five years. He underwent an appendectomy in his late twenties and had a hernia repair surgery a decade ago. The patient reports a family history of diabetes on his maternal side.\n",
    "\n",
    "III. Review of Systems:\n",
    "\n",
    "General: The patient reports fatigue, unexplained weight loss of approximately 10 pounds over three months, and a decreased appetite.\n",
    "\n",
    "Gastrointestinal: The patient experiences intermittent abdominal pain, predominantly in the right upper quadrant, without a clear trigger. He reports occasional nausea, and denies vomiting, diarrhea, or changes in bowel habits.\n",
    "\n",
    "Cardiovascular: The patient's blood pressure has been well controlled with medication. He denies chest pain, palpitations, or shortness of breath.\n",
    "\n",
    "Respiratory: The patient denies cough, wheezing, or shortness of breath.\n",
    "\n",
    "Musculoskeletal: No significant joint pain or limitations in mobility reported.\n",
    "\n",
    "Neurological: The patient denies headaches, dizziness, or changes in vision.\n",
    "\n",
    "Psychological: The patient mentions occasional stress due to work-related factors but denies symptoms of depression or anxiety.\n",
    "\n",
    "IV. Physical Examination:\n",
    "\n",
    "Vital Signs: Blood pressure is 130/80 mmHg, heart rate is 78 beats per minute, respiratory rate is 16 breaths per minute, and temperature is 98.6°F (37°C).\n",
    "\n",
    "General: The patient appears fatigued but alert and oriented to person, place, and time. He appears to have lost weight since his last visit.\n",
    "\n",
    "Abdominal Examination: There is tenderness on palpation in the right upper quadrant of the abdomen. No palpable masses or organomegaly noted. Bowel sounds are normal.\n",
    "\n",
    "Cardiovascular Examination: Regular rate and rhythm with no murmurs or abnormal sounds.\n",
    "\n",
    "Respiratory Examination: Clear breath sounds bilaterally, no wheezing or crackles noted.\n",
    "\n",
    "Neurological Examination: No focal neurological deficits observed.\n",
    "\n",
    "V. Diagnostic Investigations:\n",
    "\n",
    "Complete Blood Count (CBC): Within normal limits.\n",
    "Comprehensive Metabolic Panel (CMP): Slight decrease in albumin levels.\n",
    "Liver Function Tests (LFTs): Mild elevation in liver enzymes (AST and ALT).\n",
    "Abdominal Ultrasound: No evidence of gallstones or other abnormalities. Liver appears slightly enlarged.\n",
    "CT Scan of the Abdomen: Reveals a mass in the liver, approximately 5 cm in diameter. The mass appears to be enhancing on contrast.\n",
    "VI. Assessment and Plan:\n",
    "\n",
    "Based on the patient's symptoms, physical examination, and diagnostic investigations, the following assessment and plan have been formulated:\n",
    "\n",
    "Assessment:\n",
    "\n",
    "Unexplained weight loss and fatigue.\n",
    "Right upper quadrant abdominal pain.\n",
    "Elevated liver enzymes and an enlarging liver mass.\n",
    "Plan:\n",
    "\n",
    "Further Evaluation: Given the presence of an enlarging liver mass and elevated liver enzymes, the patient will be referred to a gastroenterologist for further evaluation, including possible liver biopsy.\n",
    "Oncology Consultation: Given the possibility of malignancy, an oncology consultation will be sought to determine the nature of the liver mass and develop an appropriate treatment plan.\n",
    "Symptom Management: The patient's abdominal pain will be managed with pain relievers as needed. Anti-nausea medication will be prescribed to alleviate nausea symptoms.\n",
    "Nutritional Support: The patient's decreased appetite and weight loss will be addressed with dietary counseling and nutritional support to ensure adequate calorie intake.\n",
    "Psychological Support: Given the patient's stress and anxiety related to his symptoms, psychological support and counseling will be offered to address emotional well-being.\n",
    "VII. Follow-Up:\n",
    "\n",
    "The patient is scheduled for a follow-up appointment in two weeks to discuss the results of further investigations, consultations, and to address any ongoing symptoms. The patient is advised to monitor his symptoms and report any significant changes or new symptoms before the next visit.\n",
    "\n",
    "VIII. Prognosis and Discussion:\n",
    "\n",
    "The presence of an enlarging liver mass raises concerns about potential malignancy. Further diagnostic testing and consultations with specialists are essential to determine the nature of the mass and develop an appropriate treatment plan. The patient's overall prognosis will be influenced by the nature of the liver mass and the success of treatment interventions. Close collaboration between the patient, medical team, and specialists will guide the management of his condition and optimize his chances of recovery.\n",
    "\n",
    "IX. Patient Education:\n",
    "\n",
    "The patient and his family will receive comprehensive education about the diagnostic process, potential treatment options, and the importance of adhering to medical recommendations. Emphasis will be placed on the need for regular follow-up appointments and open communication with the medical team to ensure the best possible outcomes.\n",
    "\n",
    "X. Conclusion:\n",
    "\n",
    "This patient report outlines the comprehensive health assessment of John Doe, a male patient presenting with unexplained weight loss, fatigue, and abdominal pain. The assessment encompasses a thorough medical history, review of systems, physical examination findings, diagnostic investigations, assessment, and a detailed plan for further evaluation and management. The collaboration between healthcare professionals and specialists will be crucial in guiding the patient's journey toward an accurate diagnosis, effective treatment, and optimal health outcomes.\n",
    "\"\"\""
   ]
  },
  {
   "cell_type": "code",
   "execution_count": 11,
   "metadata": {},
   "outputs": [],
   "source": [
    "print(llm_chain.run(text))"
   ]
  },
  {
   "cell_type": "code",
   "execution_count": null,
   "metadata": {},
   "outputs": [],
   "source": []
  }
 ],
 "metadata": {
  "kernelspec": {
   "display_name": "Butis",
   "language": "python",
   "name": "python3"
  },
  "language_info": {
   "codemirror_mode": {
    "name": "ipython",
    "version": 3
   },
   "file_extension": ".py",
   "mimetype": "text/x-python",
   "name": "python",
   "nbconvert_exporter": "python",
   "pygments_lexer": "ipython3",
   "version": "3.8.18"
  }
 },
 "nbformat": 4,
 "nbformat_minor": 2
}
